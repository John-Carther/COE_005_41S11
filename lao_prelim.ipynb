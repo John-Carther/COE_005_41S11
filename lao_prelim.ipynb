{
 "cells": [
  {
   "cell_type": "code",
   "execution_count": 1,
   "id": "15c81cfd-7a88-47fe-856e-a9a08c03b7f0",
   "metadata": {},
   "outputs": [],
   "source": [
    "# John Carther V. Lao\n",
    "# import libraries\n",
    "import numpy as np\n",
    "import pandas as pd\n",
    "import tensorflow as tf\n",
    "import keras\n",
    "\n",
    "from sklearn.model_selection import train_test_split\n",
    "from sklearn.preprocessing import StandardScaler\n",
    "from keras.models import Sequential\n",
    "from keras.layers import Dense"
   ]
  },
  {
   "cell_type": "markdown",
   "id": "241e506e-92d8-4540-b6ed-aaf17792f28e",
   "metadata": {},
   "source": [
    "<font size=\"5\">***Machine Learning Step: Gathering Data***</font>"
   ]
  },
  {
   "cell_type": "code",
   "execution_count": 2,
   "id": "b0d2bfdd-4fb4-4df4-afd3-cd44c78b300c",
   "metadata": {},
   "outputs": [
    {
     "data": {
      "text/html": [
       "<div>\n",
       "<style scoped>\n",
       "    .dataframe tbody tr th:only-of-type {\n",
       "        vertical-align: middle;\n",
       "    }\n",
       "\n",
       "    .dataframe tbody tr th {\n",
       "        vertical-align: top;\n",
       "    }\n",
       "\n",
       "    .dataframe thead th {\n",
       "        text-align: right;\n",
       "    }\n",
       "</style>\n",
       "<table border=\"1\" class=\"dataframe\">\n",
       "  <thead>\n",
       "    <tr style=\"text-align: right;\">\n",
       "      <th></th>\n",
       "      <th>PassengerId</th>\n",
       "      <th>Survived</th>\n",
       "      <th>Pclass</th>\n",
       "      <th>Name</th>\n",
       "      <th>Sex</th>\n",
       "      <th>Age</th>\n",
       "      <th>SibSp</th>\n",
       "      <th>Parch</th>\n",
       "      <th>Ticket</th>\n",
       "      <th>Fare</th>\n",
       "      <th>Cabin</th>\n",
       "      <th>Embarked</th>\n",
       "    </tr>\n",
       "  </thead>\n",
       "  <tbody>\n",
       "    <tr>\n",
       "      <th>0</th>\n",
       "      <td>1</td>\n",
       "      <td>0</td>\n",
       "      <td>3</td>\n",
       "      <td>Braund, Mr. Owen Harris</td>\n",
       "      <td>male</td>\n",
       "      <td>22.0</td>\n",
       "      <td>1</td>\n",
       "      <td>0</td>\n",
       "      <td>A/5 21171</td>\n",
       "      <td>7.2500</td>\n",
       "      <td>NaN</td>\n",
       "      <td>S</td>\n",
       "    </tr>\n",
       "    <tr>\n",
       "      <th>1</th>\n",
       "      <td>2</td>\n",
       "      <td>1</td>\n",
       "      <td>1</td>\n",
       "      <td>Cumings, Mrs. John Bradley (Florence Briggs Th...</td>\n",
       "      <td>female</td>\n",
       "      <td>38.0</td>\n",
       "      <td>1</td>\n",
       "      <td>0</td>\n",
       "      <td>PC 17599</td>\n",
       "      <td>71.2833</td>\n",
       "      <td>C85</td>\n",
       "      <td>C</td>\n",
       "    </tr>\n",
       "    <tr>\n",
       "      <th>2</th>\n",
       "      <td>3</td>\n",
       "      <td>1</td>\n",
       "      <td>3</td>\n",
       "      <td>Heikkinen, Miss. Laina</td>\n",
       "      <td>female</td>\n",
       "      <td>26.0</td>\n",
       "      <td>0</td>\n",
       "      <td>0</td>\n",
       "      <td>STON/O2. 3101282</td>\n",
       "      <td>7.9250</td>\n",
       "      <td>NaN</td>\n",
       "      <td>S</td>\n",
       "    </tr>\n",
       "    <tr>\n",
       "      <th>3</th>\n",
       "      <td>4</td>\n",
       "      <td>1</td>\n",
       "      <td>1</td>\n",
       "      <td>Futrelle, Mrs. Jacques Heath (Lily May Peel)</td>\n",
       "      <td>female</td>\n",
       "      <td>35.0</td>\n",
       "      <td>1</td>\n",
       "      <td>0</td>\n",
       "      <td>113803</td>\n",
       "      <td>53.1000</td>\n",
       "      <td>C123</td>\n",
       "      <td>S</td>\n",
       "    </tr>\n",
       "    <tr>\n",
       "      <th>4</th>\n",
       "      <td>5</td>\n",
       "      <td>0</td>\n",
       "      <td>3</td>\n",
       "      <td>Allen, Mr. William Henry</td>\n",
       "      <td>male</td>\n",
       "      <td>35.0</td>\n",
       "      <td>0</td>\n",
       "      <td>0</td>\n",
       "      <td>373450</td>\n",
       "      <td>8.0500</td>\n",
       "      <td>NaN</td>\n",
       "      <td>S</td>\n",
       "    </tr>\n",
       "  </tbody>\n",
       "</table>\n",
       "</div>"
      ],
      "text/plain": [
       "   PassengerId  Survived  Pclass  \\\n",
       "0            1         0       3   \n",
       "1            2         1       1   \n",
       "2            3         1       3   \n",
       "3            4         1       1   \n",
       "4            5         0       3   \n",
       "\n",
       "                                                Name     Sex   Age  SibSp  \\\n",
       "0                            Braund, Mr. Owen Harris    male  22.0      1   \n",
       "1  Cumings, Mrs. John Bradley (Florence Briggs Th...  female  38.0      1   \n",
       "2                             Heikkinen, Miss. Laina  female  26.0      0   \n",
       "3       Futrelle, Mrs. Jacques Heath (Lily May Peel)  female  35.0      1   \n",
       "4                           Allen, Mr. William Henry    male  35.0      0   \n",
       "\n",
       "   Parch            Ticket     Fare Cabin Embarked  \n",
       "0      0         A/5 21171   7.2500   NaN        S  \n",
       "1      0          PC 17599  71.2833   C85        C  \n",
       "2      0  STON/O2. 3101282   7.9250   NaN        S  \n",
       "3      0            113803  53.1000  C123        S  \n",
       "4      0            373450   8.0500   NaN        S  "
      ]
     },
     "execution_count": 2,
     "metadata": {},
     "output_type": "execute_result"
    }
   ],
   "source": [
    "#read dataset\n",
    "dataset = pd.read_csv('C:\\\\Users\\\\Carther\\\\Desktop\\\\COE_prelim\\\\titanic.csv')\n",
    "dataset.head()"
   ]
  },
  {
   "cell_type": "markdown",
   "id": "cc0b5256-bcad-4a44-8bd0-7ecd11bfdf60",
   "metadata": {},
   "source": [
    "<font size=\"5\">***Machine Learning Step: Preparing Data***</font>"
   ]
  },
  {
   "cell_type": "code",
   "execution_count": 3,
   "id": "b9f79184-b0a0-4d3e-b0bb-b35084915213",
   "metadata": {},
   "outputs": [
    {
     "data": {
      "text/html": [
       "<div>\n",
       "<style scoped>\n",
       "    .dataframe tbody tr th:only-of-type {\n",
       "        vertical-align: middle;\n",
       "    }\n",
       "\n",
       "    .dataframe tbody tr th {\n",
       "        vertical-align: top;\n",
       "    }\n",
       "\n",
       "    .dataframe thead th {\n",
       "        text-align: right;\n",
       "    }\n",
       "</style>\n",
       "<table border=\"1\" class=\"dataframe\">\n",
       "  <thead>\n",
       "    <tr style=\"text-align: right;\">\n",
       "      <th></th>\n",
       "      <th>Survived</th>\n",
       "      <th>Pclass</th>\n",
       "      <th>Sex</th>\n",
       "      <th>Age</th>\n",
       "      <th>SibSp</th>\n",
       "      <th>Parch</th>\n",
       "    </tr>\n",
       "  </thead>\n",
       "  <tbody>\n",
       "    <tr>\n",
       "      <th>0</th>\n",
       "      <td>0</td>\n",
       "      <td>3</td>\n",
       "      <td>1</td>\n",
       "      <td>22.0</td>\n",
       "      <td>1</td>\n",
       "      <td>0</td>\n",
       "    </tr>\n",
       "    <tr>\n",
       "      <th>1</th>\n",
       "      <td>1</td>\n",
       "      <td>1</td>\n",
       "      <td>0</td>\n",
       "      <td>38.0</td>\n",
       "      <td>1</td>\n",
       "      <td>0</td>\n",
       "    </tr>\n",
       "    <tr>\n",
       "      <th>2</th>\n",
       "      <td>1</td>\n",
       "      <td>3</td>\n",
       "      <td>0</td>\n",
       "      <td>26.0</td>\n",
       "      <td>0</td>\n",
       "      <td>0</td>\n",
       "    </tr>\n",
       "    <tr>\n",
       "      <th>3</th>\n",
       "      <td>1</td>\n",
       "      <td>1</td>\n",
       "      <td>0</td>\n",
       "      <td>35.0</td>\n",
       "      <td>1</td>\n",
       "      <td>0</td>\n",
       "    </tr>\n",
       "    <tr>\n",
       "      <th>4</th>\n",
       "      <td>0</td>\n",
       "      <td>3</td>\n",
       "      <td>1</td>\n",
       "      <td>35.0</td>\n",
       "      <td>0</td>\n",
       "      <td>0</td>\n",
       "    </tr>\n",
       "  </tbody>\n",
       "</table>\n",
       "</div>"
      ],
      "text/plain": [
       "   Survived  Pclass  Sex   Age  SibSp  Parch\n",
       "0         0       3    1  22.0      1      0\n",
       "1         1       1    0  38.0      1      0\n",
       "2         1       3    0  26.0      0      0\n",
       "3         1       1    0  35.0      1      0\n",
       "4         0       3    1  35.0      0      0"
      ]
     },
     "execution_count": 3,
     "metadata": {},
     "output_type": "execute_result"
    }
   ],
   "source": [
    "#drop empty column\n",
    "dataset = dataset.drop(['PassengerId','Name','Ticket','Cabin','Fare','Embarked'], axis=1)\n",
    "dataset['Sex'] = dataset['Sex'].map({'female':0,'male':1}) \n",
    "dataset.head()"
   ]
  },
  {
   "cell_type": "code",
   "execution_count": 4,
   "id": "2f7c543a-94c0-457e-8a75-9fa8847f2d05",
   "metadata": {},
   "outputs": [
    {
     "data": {
      "text/plain": [
       "Survived      0\n",
       "Pclass        0\n",
       "Sex           0\n",
       "Age         177\n",
       "SibSp         0\n",
       "Parch         0\n",
       "dtype: int64"
      ]
     },
     "metadata": {},
     "output_type": "display_data"
    }
   ],
   "source": [
    "#Check for NaN values\n",
    "display(dataset.isnull().sum())"
   ]
  },
  {
   "cell_type": "code",
   "execution_count": 5,
   "id": "f0ae9ec5-deeb-439c-b8a5-f437769eef92",
   "metadata": {},
   "outputs": [
    {
     "data": {
      "text/plain": [
       "Survived    0\n",
       "Pclass      0\n",
       "Sex         0\n",
       "Age         0\n",
       "SibSp       0\n",
       "Parch       0\n",
       "dtype: int64"
      ]
     },
     "metadata": {},
     "output_type": "display_data"
    }
   ],
   "source": [
    "#Input data in missing values\n",
    "#take the median of age to avoid skewing parameters\n",
    "dataset['Age'] = dataset.groupby(['Pclass','Sex'])['Age'].apply(lambda x:x.fillna(x.median()))\n",
    "#check again for empty values\n",
    "display(dataset.isnull().sum())"
   ]
  },
  {
   "cell_type": "code",
   "execution_count": 6,
   "id": "49f3f946-7323-42e3-8ff1-c7bfbcab506a",
   "metadata": {},
   "outputs": [
    {
     "data": {
      "text/html": [
       "<div>\n",
       "<style scoped>\n",
       "    .dataframe tbody tr th:only-of-type {\n",
       "        vertical-align: middle;\n",
       "    }\n",
       "\n",
       "    .dataframe tbody tr th {\n",
       "        vertical-align: top;\n",
       "    }\n",
       "\n",
       "    .dataframe thead th {\n",
       "        text-align: right;\n",
       "    }\n",
       "</style>\n",
       "<table border=\"1\" class=\"dataframe\">\n",
       "  <thead>\n",
       "    <tr style=\"text-align: right;\">\n",
       "      <th></th>\n",
       "      <th>Pclass</th>\n",
       "      <th>Sex</th>\n",
       "      <th>Age</th>\n",
       "      <th>SibSp</th>\n",
       "      <th>Parch</th>\n",
       "      <th>Survived</th>\n",
       "    </tr>\n",
       "  </thead>\n",
       "  <tbody>\n",
       "    <tr>\n",
       "      <th>0</th>\n",
       "      <td>3</td>\n",
       "      <td>1</td>\n",
       "      <td>22.0</td>\n",
       "      <td>1</td>\n",
       "      <td>0</td>\n",
       "      <td>0</td>\n",
       "    </tr>\n",
       "    <tr>\n",
       "      <th>1</th>\n",
       "      <td>1</td>\n",
       "      <td>0</td>\n",
       "      <td>38.0</td>\n",
       "      <td>1</td>\n",
       "      <td>0</td>\n",
       "      <td>1</td>\n",
       "    </tr>\n",
       "    <tr>\n",
       "      <th>2</th>\n",
       "      <td>3</td>\n",
       "      <td>0</td>\n",
       "      <td>26.0</td>\n",
       "      <td>0</td>\n",
       "      <td>0</td>\n",
       "      <td>1</td>\n",
       "    </tr>\n",
       "    <tr>\n",
       "      <th>3</th>\n",
       "      <td>1</td>\n",
       "      <td>0</td>\n",
       "      <td>35.0</td>\n",
       "      <td>1</td>\n",
       "      <td>0</td>\n",
       "      <td>1</td>\n",
       "    </tr>\n",
       "    <tr>\n",
       "      <th>4</th>\n",
       "      <td>3</td>\n",
       "      <td>1</td>\n",
       "      <td>35.0</td>\n",
       "      <td>0</td>\n",
       "      <td>0</td>\n",
       "      <td>0</td>\n",
       "    </tr>\n",
       "  </tbody>\n",
       "</table>\n",
       "</div>"
      ],
      "text/plain": [
       "   Pclass  Sex   Age  SibSp  Parch  Survived\n",
       "0       3    1  22.0      1      0         0\n",
       "1       1    0  38.0      1      0         1\n",
       "2       3    0  26.0      0      0         1\n",
       "3       1    0  35.0      1      0         1\n",
       "4       3    1  35.0      0      0         0"
      ]
     },
     "execution_count": 6,
     "metadata": {},
     "output_type": "execute_result"
    }
   ],
   "source": [
    "dataset = dataset[['Pclass','Sex','Age','SibSp','Parch','Survived']]\n",
    "dataset.head()"
   ]
  },
  {
   "cell_type": "code",
   "execution_count": 7,
   "id": "911176bc-8ca3-452b-a8ee-1670943d405e",
   "metadata": {},
   "outputs": [],
   "source": [
    "#separate input data from output\n",
    "X, y = dataset.loc[:, dataset.columns != 'Survived'], dataset['Survived']"
   ]
  },
  {
   "cell_type": "code",
   "execution_count": 8,
   "id": "99f959d5-4b3d-4c34-babe-60bf8a5f0214",
   "metadata": {},
   "outputs": [
    {
     "data": {
      "text/plain": [
       "((712, 5), (712,), (179, 5), (179,))"
      ]
     },
     "execution_count": 8,
     "metadata": {},
     "output_type": "execute_result"
    }
   ],
   "source": [
    "#split data into train and test dataset\n",
    "X_train, X_test, y_train, y_test = train_test_split(X,y, test_size=0.2, random_state=42)\n",
    "X_train.shape, y_train.shape, X_test.shape, y_test.shape"
   ]
  },
  {
   "cell_type": "code",
   "execution_count": 9,
   "id": "9d143c11-1403-41dd-9dc0-d0c356c63967",
   "metadata": {},
   "outputs": [],
   "source": [
    "#scale data to make it easier for model to understand\n",
    "sc = StandardScaler()\n",
    "X_train = sc.fit_transform(X_train)\n",
    "X_test = sc.fit_transform(X_test)"
   ]
  },
  {
   "cell_type": "markdown",
   "id": "051aebfa-4074-4083-ab49-bcf2565b8a87",
   "metadata": {},
   "source": [
    "<font size=\"5\">***Machine Learning Step: Choose Model***</font>"
   ]
  },
  {
   "cell_type": "markdown",
   "id": "dbb10a1a-4263-41df-93fc-99944fd90059",
   "metadata": {},
   "source": [
    "***1. Random Forest Model \\\n",
    "2. Logistic Regression \\\n",
    "3. Sequential Neural Network***"
   ]
  },
  {
   "cell_type": "markdown",
   "id": "fda2d6d7-eea4-4fbf-a9a9-47eef77bc55d",
   "metadata": {},
   "source": [
    "<font size=\"5\">***This Section is for Machine Learning Algorithm -- ___Random Forest Model___***</font>"
   ]
  },
  {
   "cell_type": "code",
   "execution_count": 10,
   "id": "31d6e8d5-fabe-4e17-ac6d-b23869f18f05",
   "metadata": {},
   "outputs": [],
   "source": [
    "#Import Random Forest Model\n",
    "from sklearn.ensemble import RandomForestClassifier\n",
    "\n",
    "#Create a Classifier\n",
    "clf=RandomForestClassifier(criterion = 'gini',\n",
    "                            n_estimators = 1750,\n",
    "                            max_depth = 7,\n",
    "                            random_state = 42,\n",
    "                            n_jobs=-1,\n",
    "                            verbose = 0)\n",
    "\n",
    "#Fit and Train the model using the training sets\n",
    "clf.fit(X_train,y_train)\n",
    "#start predictions\n",
    "y_pred=clf.predict(X_test)"
   ]
  },
  {
   "cell_type": "code",
   "execution_count": 11,
   "id": "8cf55045-dca7-46bb-863e-aea9eebe4875",
   "metadata": {},
   "outputs": [
    {
     "name": "stdout",
     "output_type": "stream",
     "text": [
      "Accuracy: 82.68156424581005\n"
     ]
    }
   ],
   "source": [
    "#Import scikit-learn metrics module for accuracy calculation\n",
    "from sklearn import metrics\n",
    "# print model accuracy \n",
    "print(\"Accuracy:\",metrics.accuracy_score(y_test, y_pred)*100)"
   ]
  },
  {
   "cell_type": "markdown",
   "id": "dea49a06-469b-42c5-bfed-50d9b948dc55",
   "metadata": {},
   "source": [
    "<font size=\"3\">***Random Forest Model Accuracy: 82.68%***</font>"
   ]
  },
  {
   "cell_type": "markdown",
   "id": "bda18284-79d0-40ac-8911-56d3e7a2e208",
   "metadata": {},
   "source": [
    "<font size=\"5\">***This Section is for Machine Learning Algorithm -- ___Logistic Regression Model___***</font>"
   ]
  },
  {
   "cell_type": "code",
   "execution_count": 21,
   "id": "986ed84b-1320-456d-af5e-8ff11ff5abe4",
   "metadata": {},
   "outputs": [],
   "source": [
    "#import Logistic Regression Model\n",
    "from sklearn.linear_model import LogisticRegression\n",
    "\n",
    "# all parameters not specified are set to their defaults\n",
    "logisticRegr = LogisticRegression()\n",
    "\n",
    "#fit and train model\n",
    "logisticRegr.fit(X_train, y_train)\n",
    "\n",
    "#start prediction of data\n",
    "predictions = logisticRegr.predict(X_test)"
   ]
  },
  {
   "cell_type": "code",
   "execution_count": 13,
   "id": "9c7793ff-fc73-4a42-a85e-1b942a497147",
   "metadata": {},
   "outputs": [
    {
     "name": "stdout",
     "output_type": "stream",
     "text": [
      "81.56424581005587\n"
     ]
    }
   ],
   "source": [
    "# get the accuracy\n",
    "print(metrics.accuracy_score(y_test, predictions)*100)"
   ]
  },
  {
   "cell_type": "markdown",
   "id": "9df4b11d-5449-480a-bcc7-aebcc3e46c7d",
   "metadata": {},
   "source": [
    "<font size=\"3\">***Logistics Regression Model Accuracy: 81.56%***</font>"
   ]
  },
  {
   "cell_type": "markdown",
   "id": "6da6a6b0-13a0-46e8-a8b5-d70368c7fc71",
   "metadata": {},
   "source": [
    "<font size=\"5\">***This Section is for Neural Network Model***</font>"
   ]
  },
  {
   "cell_type": "code",
   "execution_count": 14,
   "id": "bb1711c0-ca7a-4767-9ab4-ae13a41cb7c4",
   "metadata": {},
   "outputs": [],
   "source": [
    "#build model\n",
    "Survivor_model = Sequential()\n",
    "\n",
    "#Input layer with 5 inputs neurons\n",
    "Survivor_model.add(Dense(3, kernel_initializer=\"uniform\", activation = 'relu', input_dim = 5))\n",
    "\n",
    "#Hidden layer\n",
    "Survivor_model.add(Dense(32, kernel_initializer=\"uniform\", activation = 'relu',))\n",
    "Survivor_model.add(Dense(16, kernel_initializer=\"uniform\", activation = 'relu'))\n",
    "Survivor_model.add(Dense(8, kernel_initializer=\"uniform\", activation = 'tanh'))\n",
    "\n",
    "#output layer with 1 output neuron which will predict 1 or 0\n",
    "Survivor_model.add(Dense(1, kernel_initializer=\"uniform\", activation = 'sigmoid'))"
   ]
  },
  {
   "cell_type": "code",
   "execution_count": 15,
   "id": "e34fc3d9-f220-4034-af14-1c839b67da01",
   "metadata": {},
   "outputs": [],
   "source": [
    "#compile the model\n",
    "Survivor_model.compile(optimizer = 'adam', loss = 'binary_crossentropy', metrics = ['accuracy'])"
   ]
  },
  {
   "cell_type": "code",
   "execution_count": 16,
   "id": "c0b3948f-832f-4847-bb86-fbc16899a9e0",
   "metadata": {},
   "outputs": [
    {
     "name": "stdout",
     "output_type": "stream",
     "text": [
      "Model: \"sequential\"\n",
      "_________________________________________________________________\n",
      " Layer (type)                Output Shape              Param #   \n",
      "=================================================================\n",
      " dense (Dense)               (None, 3)                 18        \n",
      "                                                                 \n",
      " dense_1 (Dense)             (None, 32)                128       \n",
      "                                                                 \n",
      " dense_2 (Dense)             (None, 16)                528       \n",
      "                                                                 \n",
      " dense_3 (Dense)             (None, 8)                 136       \n",
      "                                                                 \n",
      " dense_4 (Dense)             (None, 1)                 9         \n",
      "                                                                 \n",
      "=================================================================\n",
      "Total params: 819\n",
      "Trainable params: 819\n",
      "Non-trainable params: 0\n",
      "_________________________________________________________________\n"
     ]
    }
   ],
   "source": [
    "#display model to check layers\n",
    "Survivor_model.summary()"
   ]
  },
  {
   "cell_type": "code",
   "execution_count": 17,
   "id": "c3c290fa-fc0b-4929-8bd2-ad6b3f80f9f6",
   "metadata": {},
   "outputs": [
    {
     "name": "stdout",
     "output_type": "stream",
     "text": [
      "Epoch 1/100\n",
      "23/23 [==============================] - 1s 14ms/step - loss: 0.6916 - accuracy: 0.6264 - val_loss: 0.6906 - val_accuracy: 0.5866\n",
      "Epoch 2/100\n",
      "23/23 [==============================] - 0s 3ms/step - loss: 0.6869 - accuracy: 0.6236 - val_loss: 0.6864 - val_accuracy: 0.5866\n",
      "Epoch 3/100\n",
      "23/23 [==============================] - 0s 4ms/step - loss: 0.6782 - accuracy: 0.6236 - val_loss: 0.6759 - val_accuracy: 0.5866\n",
      "Epoch 4/100\n",
      "23/23 [==============================] - 0s 3ms/step - loss: 0.6552 - accuracy: 0.6236 - val_loss: 0.6442 - val_accuracy: 0.5866\n",
      "Epoch 5/100\n",
      "23/23 [==============================] - 0s 3ms/step - loss: 0.6088 - accuracy: 0.6236 - val_loss: 0.5954 - val_accuracy: 0.5866\n",
      "Epoch 6/100\n",
      "23/23 [==============================] - 0s 3ms/step - loss: 0.5648 - accuracy: 0.6236 - val_loss: 0.5594 - val_accuracy: 0.5866\n",
      "Epoch 7/100\n",
      "23/23 [==============================] - 0s 3ms/step - loss: 0.5345 - accuracy: 0.7584 - val_loss: 0.5229 - val_accuracy: 0.8156\n",
      "Epoch 8/100\n",
      "23/23 [==============================] - 0s 3ms/step - loss: 0.5049 - accuracy: 0.8132 - val_loss: 0.4887 - val_accuracy: 0.8156\n",
      "Epoch 9/100\n",
      "23/23 [==============================] - 0s 3ms/step - loss: 0.4828 - accuracy: 0.8090 - val_loss: 0.4569 - val_accuracy: 0.8156\n",
      "Epoch 10/100\n",
      "23/23 [==============================] - 0s 3ms/step - loss: 0.4647 - accuracy: 0.8062 - val_loss: 0.4427 - val_accuracy: 0.8156\n",
      "Epoch 11/100\n",
      "23/23 [==============================] - 0s 3ms/step - loss: 0.4571 - accuracy: 0.8146 - val_loss: 0.4357 - val_accuracy: 0.8156\n",
      "Epoch 12/100\n",
      "23/23 [==============================] - 0s 4ms/step - loss: 0.4546 - accuracy: 0.8062 - val_loss: 0.4304 - val_accuracy: 0.8212\n",
      "Epoch 13/100\n",
      "23/23 [==============================] - 0s 3ms/step - loss: 0.4474 - accuracy: 0.8230 - val_loss: 0.4249 - val_accuracy: 0.8268\n",
      "Epoch 14/100\n",
      "23/23 [==============================] - 0s 4ms/step - loss: 0.4435 - accuracy: 0.8160 - val_loss: 0.4206 - val_accuracy: 0.8268\n",
      "Epoch 15/100\n",
      "23/23 [==============================] - 0s 3ms/step - loss: 0.4427 - accuracy: 0.8202 - val_loss: 0.4167 - val_accuracy: 0.8101\n",
      "Epoch 16/100\n",
      "23/23 [==============================] - 0s 3ms/step - loss: 0.4393 - accuracy: 0.8230 - val_loss: 0.4241 - val_accuracy: 0.8268\n",
      "Epoch 17/100\n",
      "23/23 [==============================] - 0s 3ms/step - loss: 0.4367 - accuracy: 0.8188 - val_loss: 0.4159 - val_accuracy: 0.8268\n",
      "Epoch 18/100\n",
      "23/23 [==============================] - 0s 3ms/step - loss: 0.4367 - accuracy: 0.8244 - val_loss: 0.4205 - val_accuracy: 0.8156\n",
      "Epoch 19/100\n",
      "23/23 [==============================] - 0s 3ms/step - loss: 0.4356 - accuracy: 0.8174 - val_loss: 0.4154 - val_accuracy: 0.8212\n",
      "Epoch 20/100\n",
      "23/23 [==============================] - 0s 3ms/step - loss: 0.4337 - accuracy: 0.8272 - val_loss: 0.4118 - val_accuracy: 0.8212\n",
      "Epoch 21/100\n",
      "23/23 [==============================] - 0s 3ms/step - loss: 0.4309 - accuracy: 0.8230 - val_loss: 0.4183 - val_accuracy: 0.8268\n",
      "Epoch 22/100\n",
      "23/23 [==============================] - 0s 3ms/step - loss: 0.4307 - accuracy: 0.8174 - val_loss: 0.4149 - val_accuracy: 0.8156\n",
      "Epoch 23/100\n",
      "23/23 [==============================] - 0s 3ms/step - loss: 0.4295 - accuracy: 0.8272 - val_loss: 0.4099 - val_accuracy: 0.8156\n",
      "Epoch 24/100\n",
      "23/23 [==============================] - 0s 3ms/step - loss: 0.4287 - accuracy: 0.8230 - val_loss: 0.4138 - val_accuracy: 0.8156\n",
      "Epoch 25/100\n",
      "23/23 [==============================] - 0s 3ms/step - loss: 0.4275 - accuracy: 0.8258 - val_loss: 0.4168 - val_accuracy: 0.8101\n",
      "Epoch 26/100\n",
      "23/23 [==============================] - 0s 3ms/step - loss: 0.4254 - accuracy: 0.8244 - val_loss: 0.4173 - val_accuracy: 0.8101\n",
      "Epoch 27/100\n",
      "23/23 [==============================] - 0s 4ms/step - loss: 0.4267 - accuracy: 0.8216 - val_loss: 0.4258 - val_accuracy: 0.8212\n",
      "Epoch 28/100\n",
      "23/23 [==============================] - 0s 5ms/step - loss: 0.4245 - accuracy: 0.8202 - val_loss: 0.4155 - val_accuracy: 0.8101\n",
      "Epoch 29/100\n",
      "23/23 [==============================] - 0s 3ms/step - loss: 0.4242 - accuracy: 0.8230 - val_loss: 0.4204 - val_accuracy: 0.8156\n",
      "Epoch 30/100\n",
      "23/23 [==============================] - 0s 3ms/step - loss: 0.4222 - accuracy: 0.8160 - val_loss: 0.4193 - val_accuracy: 0.8101\n",
      "Epoch 31/100\n",
      "23/23 [==============================] - 0s 3ms/step - loss: 0.4207 - accuracy: 0.8202 - val_loss: 0.4204 - val_accuracy: 0.8156\n",
      "Epoch 32/100\n",
      "23/23 [==============================] - 0s 3ms/step - loss: 0.4209 - accuracy: 0.8202 - val_loss: 0.4204 - val_accuracy: 0.8156\n",
      "Epoch 33/100\n",
      "23/23 [==============================] - 0s 3ms/step - loss: 0.4209 - accuracy: 0.8160 - val_loss: 0.4316 - val_accuracy: 0.8212\n",
      "Epoch 34/100\n",
      "23/23 [==============================] - 0s 3ms/step - loss: 0.4191 - accuracy: 0.8174 - val_loss: 0.4148 - val_accuracy: 0.8101\n",
      "Epoch 35/100\n",
      "23/23 [==============================] - 0s 4ms/step - loss: 0.4183 - accuracy: 0.8216 - val_loss: 0.4299 - val_accuracy: 0.8212\n",
      "Epoch 36/100\n",
      "23/23 [==============================] - 0s 3ms/step - loss: 0.4195 - accuracy: 0.8188 - val_loss: 0.4172 - val_accuracy: 0.8101\n",
      "Epoch 37/100\n",
      "23/23 [==============================] - 0s 3ms/step - loss: 0.4173 - accuracy: 0.8188 - val_loss: 0.4351 - val_accuracy: 0.8212\n",
      "Epoch 38/100\n",
      "23/23 [==============================] - 0s 3ms/step - loss: 0.4141 - accuracy: 0.8188 - val_loss: 0.4185 - val_accuracy: 0.8101\n",
      "Epoch 39/100\n",
      "23/23 [==============================] - 0s 3ms/step - loss: 0.4155 - accuracy: 0.8202 - val_loss: 0.4308 - val_accuracy: 0.8156\n",
      "Epoch 40/100\n",
      "23/23 [==============================] - 0s 3ms/step - loss: 0.4150 - accuracy: 0.8146 - val_loss: 0.4280 - val_accuracy: 0.8101\n",
      "Epoch 41/100\n",
      "23/23 [==============================] - 0s 3ms/step - loss: 0.4130 - accuracy: 0.8258 - val_loss: 0.4300 - val_accuracy: 0.8101\n",
      "Epoch 42/100\n",
      "23/23 [==============================] - 0s 3ms/step - loss: 0.4118 - accuracy: 0.8216 - val_loss: 0.4326 - val_accuracy: 0.8101\n",
      "Epoch 43/100\n",
      "23/23 [==============================] - 0s 3ms/step - loss: 0.4109 - accuracy: 0.8216 - val_loss: 0.4311 - val_accuracy: 0.8101\n",
      "Epoch 44/100\n",
      "23/23 [==============================] - 0s 3ms/step - loss: 0.4107 - accuracy: 0.8202 - val_loss: 0.4314 - val_accuracy: 0.8101\n",
      "Epoch 45/100\n",
      "23/23 [==============================] - 0s 4ms/step - loss: 0.4109 - accuracy: 0.8216 - val_loss: 0.4367 - val_accuracy: 0.8101\n",
      "Epoch 46/100\n",
      "23/23 [==============================] - 0s 3ms/step - loss: 0.4085 - accuracy: 0.8287 - val_loss: 0.4296 - val_accuracy: 0.8101\n",
      "Epoch 47/100\n",
      "23/23 [==============================] - 0s 3ms/step - loss: 0.4114 - accuracy: 0.8244 - val_loss: 0.4295 - val_accuracy: 0.8101\n",
      "Epoch 48/100\n",
      "23/23 [==============================] - 0s 3ms/step - loss: 0.4082 - accuracy: 0.8272 - val_loss: 0.4320 - val_accuracy: 0.8101\n",
      "Epoch 49/100\n",
      "23/23 [==============================] - 0s 3ms/step - loss: 0.4078 - accuracy: 0.8244 - val_loss: 0.4416 - val_accuracy: 0.8156\n",
      "Epoch 50/100\n",
      "23/23 [==============================] - 0s 3ms/step - loss: 0.4084 - accuracy: 0.8301 - val_loss: 0.4362 - val_accuracy: 0.8101\n",
      "Epoch 51/100\n",
      "23/23 [==============================] - 0s 3ms/step - loss: 0.4069 - accuracy: 0.8287 - val_loss: 0.4415 - val_accuracy: 0.8101\n",
      "Epoch 52/100\n",
      "23/23 [==============================] - 0s 3ms/step - loss: 0.4071 - accuracy: 0.8258 - val_loss: 0.4324 - val_accuracy: 0.8101\n",
      "Epoch 53/100\n",
      "23/23 [==============================] - 0s 3ms/step - loss: 0.4064 - accuracy: 0.8230 - val_loss: 0.4368 - val_accuracy: 0.8101\n",
      "Epoch 54/100\n",
      "23/23 [==============================] - 0s 3ms/step - loss: 0.4098 - accuracy: 0.8244 - val_loss: 0.4526 - val_accuracy: 0.8101\n",
      "Epoch 55/100\n",
      "23/23 [==============================] - 0s 3ms/step - loss: 0.4104 - accuracy: 0.8272 - val_loss: 0.4343 - val_accuracy: 0.8156\n",
      "Epoch 56/100\n",
      "23/23 [==============================] - 0s 3ms/step - loss: 0.4098 - accuracy: 0.8258 - val_loss: 0.4400 - val_accuracy: 0.8101\n",
      "Epoch 57/100\n",
      "23/23 [==============================] - 0s 4ms/step - loss: 0.4074 - accuracy: 0.8287 - val_loss: 0.4374 - val_accuracy: 0.8156\n",
      "Epoch 58/100\n",
      "23/23 [==============================] - 0s 4ms/step - loss: 0.4054 - accuracy: 0.8343 - val_loss: 0.4325 - val_accuracy: 0.8156\n",
      "Epoch 59/100\n",
      "23/23 [==============================] - 0s 3ms/step - loss: 0.4055 - accuracy: 0.8329 - val_loss: 0.4421 - val_accuracy: 0.8156\n",
      "Epoch 60/100\n",
      "23/23 [==============================] - 0s 3ms/step - loss: 0.4064 - accuracy: 0.8301 - val_loss: 0.4409 - val_accuracy: 0.8156\n",
      "Epoch 61/100\n",
      "23/23 [==============================] - 0s 3ms/step - loss: 0.4065 - accuracy: 0.8287 - val_loss: 0.4430 - val_accuracy: 0.8156\n",
      "Epoch 62/100\n",
      "23/23 [==============================] - 0s 3ms/step - loss: 0.4110 - accuracy: 0.8287 - val_loss: 0.4378 - val_accuracy: 0.8156\n",
      "Epoch 63/100\n",
      "23/23 [==============================] - 0s 3ms/step - loss: 0.4079 - accuracy: 0.8287 - val_loss: 0.4498 - val_accuracy: 0.8101\n",
      "Epoch 64/100\n",
      "23/23 [==============================] - 0s 4ms/step - loss: 0.4065 - accuracy: 0.8301 - val_loss: 0.4389 - val_accuracy: 0.8156\n",
      "Epoch 65/100\n",
      "23/23 [==============================] - 0s 3ms/step - loss: 0.4053 - accuracy: 0.8287 - val_loss: 0.4415 - val_accuracy: 0.8156\n",
      "Epoch 66/100\n",
      "23/23 [==============================] - 0s 4ms/step - loss: 0.4046 - accuracy: 0.8329 - val_loss: 0.4387 - val_accuracy: 0.8156\n",
      "Epoch 67/100\n",
      "23/23 [==============================] - 0s 3ms/step - loss: 0.4052 - accuracy: 0.8329 - val_loss: 0.4409 - val_accuracy: 0.8156\n",
      "Epoch 68/100\n",
      "23/23 [==============================] - 0s 3ms/step - loss: 0.4049 - accuracy: 0.8315 - val_loss: 0.4369 - val_accuracy: 0.8156\n",
      "Epoch 69/100\n",
      "23/23 [==============================] - 0s 4ms/step - loss: 0.4034 - accuracy: 0.8315 - val_loss: 0.4488 - val_accuracy: 0.7933\n",
      "Epoch 70/100\n",
      "23/23 [==============================] - 0s 3ms/step - loss: 0.4053 - accuracy: 0.8315 - val_loss: 0.4363 - val_accuracy: 0.8156\n",
      "Epoch 71/100\n",
      "23/23 [==============================] - 0s 4ms/step - loss: 0.4042 - accuracy: 0.8315 - val_loss: 0.4497 - val_accuracy: 0.7989\n",
      "Epoch 72/100\n",
      "23/23 [==============================] - 0s 3ms/step - loss: 0.4076 - accuracy: 0.8287 - val_loss: 0.4382 - val_accuracy: 0.8156\n",
      "Epoch 73/100\n",
      "23/23 [==============================] - 0s 3ms/step - loss: 0.4040 - accuracy: 0.8287 - val_loss: 0.4437 - val_accuracy: 0.8156\n",
      "Epoch 74/100\n",
      "23/23 [==============================] - 0s 3ms/step - loss: 0.4059 - accuracy: 0.8343 - val_loss: 0.4385 - val_accuracy: 0.8156\n",
      "Epoch 75/100\n",
      "23/23 [==============================] - 0s 4ms/step - loss: 0.4043 - accuracy: 0.8301 - val_loss: 0.4400 - val_accuracy: 0.8156\n",
      "Epoch 76/100\n",
      "23/23 [==============================] - 0s 3ms/step - loss: 0.4043 - accuracy: 0.8301 - val_loss: 0.4423 - val_accuracy: 0.8156\n",
      "Epoch 77/100\n",
      "23/23 [==============================] - 0s 3ms/step - loss: 0.4035 - accuracy: 0.8371 - val_loss: 0.4421 - val_accuracy: 0.8156\n",
      "Epoch 78/100\n",
      "23/23 [==============================] - 0s 3ms/step - loss: 0.4030 - accuracy: 0.8343 - val_loss: 0.4445 - val_accuracy: 0.8156\n",
      "Epoch 79/100\n",
      "23/23 [==============================] - 0s 3ms/step - loss: 0.4042 - accuracy: 0.8329 - val_loss: 0.4403 - val_accuracy: 0.8156\n",
      "Epoch 80/100\n",
      "23/23 [==============================] - 0s 3ms/step - loss: 0.4131 - accuracy: 0.8301 - val_loss: 0.4588 - val_accuracy: 0.7933\n",
      "Epoch 81/100\n",
      "23/23 [==============================] - 0s 3ms/step - loss: 0.4074 - accuracy: 0.8301 - val_loss: 0.4342 - val_accuracy: 0.8212\n",
      "Epoch 82/100\n",
      "23/23 [==============================] - 0s 4ms/step - loss: 0.4030 - accuracy: 0.8315 - val_loss: 0.4446 - val_accuracy: 0.8324\n",
      "Epoch 83/100\n",
      "23/23 [==============================] - 0s 3ms/step - loss: 0.4033 - accuracy: 0.8315 - val_loss: 0.4402 - val_accuracy: 0.8212\n",
      "Epoch 84/100\n",
      "23/23 [==============================] - 0s 4ms/step - loss: 0.4058 - accuracy: 0.8371 - val_loss: 0.4457 - val_accuracy: 0.8324\n",
      "Epoch 85/100\n",
      "23/23 [==============================] - 0s 3ms/step - loss: 0.4063 - accuracy: 0.8329 - val_loss: 0.4417 - val_accuracy: 0.8212\n",
      "Epoch 86/100\n",
      "23/23 [==============================] - 0s 3ms/step - loss: 0.4053 - accuracy: 0.8301 - val_loss: 0.4417 - val_accuracy: 0.8212\n",
      "Epoch 87/100\n",
      "23/23 [==============================] - 0s 3ms/step - loss: 0.4023 - accuracy: 0.8371 - val_loss: 0.4455 - val_accuracy: 0.8212\n",
      "Epoch 88/100\n",
      "23/23 [==============================] - 0s 4ms/step - loss: 0.4045 - accuracy: 0.8315 - val_loss: 0.4405 - val_accuracy: 0.8212\n",
      "Epoch 89/100\n",
      "23/23 [==============================] - 0s 4ms/step - loss: 0.4021 - accuracy: 0.8371 - val_loss: 0.4404 - val_accuracy: 0.8212\n",
      "Epoch 90/100\n",
      "23/23 [==============================] - 0s 3ms/step - loss: 0.4022 - accuracy: 0.8371 - val_loss: 0.4399 - val_accuracy: 0.8212\n",
      "Epoch 91/100\n",
      "23/23 [==============================] - 0s 3ms/step - loss: 0.4052 - accuracy: 0.8287 - val_loss: 0.4442 - val_accuracy: 0.8324\n",
      "Epoch 92/100\n",
      "23/23 [==============================] - 0s 3ms/step - loss: 0.4032 - accuracy: 0.8315 - val_loss: 0.4346 - val_accuracy: 0.8212\n",
      "Epoch 93/100\n",
      "23/23 [==============================] - 0s 3ms/step - loss: 0.4024 - accuracy: 0.8329 - val_loss: 0.4466 - val_accuracy: 0.8212\n",
      "Epoch 94/100\n",
      "23/23 [==============================] - 0s 3ms/step - loss: 0.4065 - accuracy: 0.8371 - val_loss: 0.4451 - val_accuracy: 0.8212\n",
      "Epoch 95/100\n",
      "23/23 [==============================] - 0s 4ms/step - loss: 0.4037 - accuracy: 0.8272 - val_loss: 0.4426 - val_accuracy: 0.8212\n",
      "Epoch 96/100\n",
      "23/23 [==============================] - 0s 4ms/step - loss: 0.4055 - accuracy: 0.8371 - val_loss: 0.4420 - val_accuracy: 0.8212\n",
      "Epoch 97/100\n",
      "23/23 [==============================] - 0s 4ms/step - loss: 0.4020 - accuracy: 0.8329 - val_loss: 0.4473 - val_accuracy: 0.7989\n",
      "Epoch 98/100\n",
      "23/23 [==============================] - 0s 3ms/step - loss: 0.4018 - accuracy: 0.8301 - val_loss: 0.4405 - val_accuracy: 0.8324\n",
      "Epoch 99/100\n",
      "23/23 [==============================] - 0s 3ms/step - loss: 0.4008 - accuracy: 0.8371 - val_loss: 0.4415 - val_accuracy: 0.8324\n",
      "Epoch 100/100\n",
      "23/23 [==============================] - 0s 3ms/step - loss: 0.4011 - accuracy: 0.8315 - val_loss: 0.4415 - val_accuracy: 0.8324\n"
     ]
    }
   ],
   "source": [
    "#fit model and start predictions\n",
    "Survivor_model_pred = Survivor_model.fit(X_train, y_train, epochs= 100, validation_data=(X_test, y_test))"
   ]
  },
  {
   "cell_type": "code",
   "execution_count": 22,
   "id": "676eede9-24f5-4cd4-bcbf-5d60acbdbaee",
   "metadata": {},
   "outputs": [
    {
     "name": "stdout",
     "output_type": "stream",
     "text": [
      "6/6 [==============================] - 0s 2ms/step - loss: 0.4415 - accuracy: 0.8324\n",
      "Accuracy: 83.24\n"
     ]
    }
   ],
   "source": [
    "#display accuracy\n",
    "_, accuracy = Survivor_model.evaluate(X_test, y_test)\n",
    "print('Accuracy: %.2f' % (accuracy*100))"
   ]
  },
  {
   "cell_type": "markdown",
   "id": "7655109e-fab3-4bb3-94f8-3c4539281509",
   "metadata": {},
   "source": [
    "<font size=\"3\">***Neural Network Model Accuracy: 83.24%***</font>"
   ]
  },
  {
   "cell_type": "markdown",
   "id": "3fbb0b51-f8bb-4ce1-8be4-61614e66842c",
   "metadata": {},
   "source": [
    "***Results:*** \\\n",
    "***1. Random Forest Model: 82.68% \\\n",
    "2. Logistic Regression: 81.56% \\\n",
    "3. Sequential Neural Network: 83.24%***"
   ]
  },
  {
   "cell_type": "markdown",
   "id": "e182e264-00dc-468e-be98-2953018ff58d",
   "metadata": {},
   "source": [
    "<font size=\"5\">***Comparison, Analysis, Conclusion Section***</font>"
   ]
  },
  {
   "cell_type": "markdown",
   "id": "893fee33-a2ee-4d01-bf38-439ed2b7f9ec",
   "metadata": {},
   "source": [
    "The project begins by gathering data, here a common dataset was used as the basis of understanding. Rationalizing the problem can be made very easily, deducing that items such as the ticket number, cabin number, and passenger id, played little to no importance in the survival of the passengers. Thus, another data pre-processing step can be made, checking for empty data points in our dataset, this is then filled in with the median to ensure minimal biasing. The data is then split up into training and testing datasets to help in our model testing, this places us in the comparison of 2 machine learning algorithms against a neural network.\n",
    "\n",
    "In the machine learning models, a Random Forest Classifier was utilized. Although an article [1] indicated that a Decision Tree algorithm would be better suited for this dataset, they indicated that hyperparameter tuning and better data pre-processing could change the accuracy. With this in mind, a variation of a desision tree was used. Here, the parameters used were identified to help optimize the classifier better than the default parameters. It is also the most flexible and easy to use algorithm, evident in the short lines of code used. In comparison to logistic regression, this algorithm does not suffer from overfitting, for it takes the average of all the predictions, which cancels out the biases. In the other algorithm, logistic regression was used, according to another article [2], this model would produce an accuracy of 80.67%. This was slightly increased to 81.56%, a minimal step up, but an increase nevertheless through a different data pre-processing procedure. In the neural network model, 5 layers were used having 2 layers for input an output whilst utilizing the rest for hidden layer. Here, an article [3] was written indicating an accuracy of only 78%, this is improved upon by the neural network designed in this project without using GridSearch a time consuming process.\n",
    "\n",
    "In conclusion, the 3 artificial intelligence that were designed matched, and on some exceeded the general accuracy that others have reached. This has been the culmination of valuable concepts that will be useful in the following coding activities. In terms of the algorithms and models, improvement could be made by better optimizing the parameters, all achievable with enough time and understanding,as well as adding more features, which might be farfetched in this dataset.\n",
    "\n",
    "References:\n",
    "\n",
    "[1]  E. Goel, “Applying 7 classification algorithms on the titanic dataset,” Medium, 01-Jul-2021. [Online]. Available:\\\n",
    "&nbsp;&nbsp;&nbsp;&nbsp;&nbsp;https://medium.com/geekculture/applying-7-classification-algorithms-on-the-titanic-dataset-278ef222b53c. [Accessed: 07-Oct-2022].\n",
    "\n",
    "[2] G. Bektaş “Your guide for logistic regression with titanic dataset,” Medium, 17-Nov-2020. [Online]. Available: \\\n",
    "&nbsp;&nbsp;&nbsp;&nbsp;&nbsp;https://medium.com/analytics-vidhya/your-guide-for-logistic-regression-with-titanic-dataset-784943523994. [Accessed: 07-Oct-2022].\n",
    "\n",
    "[3] Stefanbergstein, “Keras Deep Learning on Titanic Data,” Kaggle, 19-Dec-2017. [Online]. Available: \\\n",
    "&nbsp;&nbsp;&nbsp;&nbsp;&nbsp;https://www.kaggle.com/code/stefanbergstein/keras-deep-learning-on-titanic-data. [Accessed: 07-Oct-2022]. "
   ]
  },
  {
   "cell_type": "code",
   "execution_count": 1,
   "id": "bce6e8bf-4c7a-471f-b2ca-cc11fbcc67d3",
   "metadata": {},
   "outputs": [],
   "source": [
    "# Lao, John Carther V. - 1911910"
   ]
  }
 ],
 "metadata": {
  "kernelspec": {
   "display_name": "Python 3 (ipykernel)",
   "language": "python",
   "name": "python3"
  },
  "language_info": {
   "codemirror_mode": {
    "name": "ipython",
    "version": 3
   },
   "file_extension": ".py",
   "mimetype": "text/x-python",
   "name": "python",
   "nbconvert_exporter": "python",
   "pygments_lexer": "ipython3",
   "version": "3.10.4"
  }
 },
 "nbformat": 4,
 "nbformat_minor": 5
}
