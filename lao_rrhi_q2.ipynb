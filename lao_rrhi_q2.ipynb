{
 "cells": [
  {
   "cell_type": "code",
   "execution_count": 134,
   "id": "7f830daa-e839-40c2-afde-b637cc6dc8fd",
   "metadata": {},
   "outputs": [],
   "source": [
    "#John Carther V. Lao\n",
    "# import libraries\n",
    "import math\n",
    "import numpy as np\n",
    "import pandas as pd\n",
    "import tensorflow as tf\n",
    "import matplotlib.pyplot as plt\n",
    "\n",
    "#additional libraries\n",
    "%matplotlib inline\n",
    "from scipy import stats\n",
    "from tensorflow import keras\n",
    "from tensorflow.keras.layers import Dense, Dropout, GRU\n",
    "from tensorflow.keras import Sequential, layers, callbacks\n",
    "from sklearn.preprocessing import MinMaxScaler, StandardScaler\n",
    "\n",
    "# Set random seed to get the same result after each time running the code\n",
    "tf.random.set_seed(1234)"
   ]
  },
  {
   "cell_type": "markdown",
   "id": "4d9fe295-a334-4738-9c93-7bb778a86581",
   "metadata": {},
   "source": [
    "<font size=\"5\">***Machine Learning Step: Gathering Data***</font>"
   ]
  },
  {
   "cell_type": "markdown",
   "id": "dd77f09b-bfe3-47a2-bc30-35a0b7dbf086",
   "metadata": {},
   "source": [
    "***Import dataset***"
   ]
  },
  {
   "cell_type": "code",
   "execution_count": 135,
   "id": "5b69716e-ac3f-4c5a-bf43-e6c246427598",
   "metadata": {},
   "outputs": [
    {
     "data": {
      "text/html": [
       "<div>\n",
       "<style scoped>\n",
       "    .dataframe tbody tr th:only-of-type {\n",
       "        vertical-align: middle;\n",
       "    }\n",
       "\n",
       "    .dataframe tbody tr th {\n",
       "        vertical-align: top;\n",
       "    }\n",
       "\n",
       "    .dataframe thead th {\n",
       "        text-align: right;\n",
       "    }\n",
       "</style>\n",
       "<table border=\"1\" class=\"dataframe\">\n",
       "  <thead>\n",
       "    <tr style=\"text-align: right;\">\n",
       "      <th></th>\n",
       "      <th>Price</th>\n",
       "      <th>Open</th>\n",
       "      <th>High</th>\n",
       "      <th>Low</th>\n",
       "      <th>Vol.</th>\n",
       "      <th>Change %</th>\n",
       "    </tr>\n",
       "    <tr>\n",
       "      <th>Date</th>\n",
       "      <th></th>\n",
       "      <th></th>\n",
       "      <th></th>\n",
       "      <th></th>\n",
       "      <th></th>\n",
       "      <th></th>\n",
       "    </tr>\n",
       "  </thead>\n",
       "  <tbody>\n",
       "    <tr>\n",
       "      <th>2020-10-09</th>\n",
       "      <td>63.65</td>\n",
       "      <td>64.30</td>\n",
       "      <td>64.30</td>\n",
       "      <td>63.50</td>\n",
       "      <td>567.22K</td>\n",
       "      <td>-2.00%</td>\n",
       "    </tr>\n",
       "    <tr>\n",
       "      <th>2020-10-12</th>\n",
       "      <td>64.25</td>\n",
       "      <td>64.00</td>\n",
       "      <td>65.00</td>\n",
       "      <td>63.70</td>\n",
       "      <td>568.32K</td>\n",
       "      <td>0.94%</td>\n",
       "    </tr>\n",
       "    <tr>\n",
       "      <th>2020-10-13</th>\n",
       "      <td>66.30</td>\n",
       "      <td>65.00</td>\n",
       "      <td>67.00</td>\n",
       "      <td>65.00</td>\n",
       "      <td>263.78K</td>\n",
       "      <td>3.19%</td>\n",
       "    </tr>\n",
       "    <tr>\n",
       "      <th>2020-10-14</th>\n",
       "      <td>67.00</td>\n",
       "      <td>66.30</td>\n",
       "      <td>67.00</td>\n",
       "      <td>66.20</td>\n",
       "      <td>61.18K</td>\n",
       "      <td>1.06%</td>\n",
       "    </tr>\n",
       "    <tr>\n",
       "      <th>2020-10-15</th>\n",
       "      <td>67.25</td>\n",
       "      <td>66.80</td>\n",
       "      <td>67.25</td>\n",
       "      <td>65.30</td>\n",
       "      <td>112.96K</td>\n",
       "      <td>0.37%</td>\n",
       "    </tr>\n",
       "    <tr>\n",
       "      <th>...</th>\n",
       "      <td>...</td>\n",
       "      <td>...</td>\n",
       "      <td>...</td>\n",
       "      <td>...</td>\n",
       "      <td>...</td>\n",
       "      <td>...</td>\n",
       "    </tr>\n",
       "    <tr>\n",
       "      <th>2022-10-04</th>\n",
       "      <td>54.50</td>\n",
       "      <td>54.55</td>\n",
       "      <td>55.50</td>\n",
       "      <td>54.40</td>\n",
       "      <td>717.19K</td>\n",
       "      <td>0.09%</td>\n",
       "    </tr>\n",
       "    <tr>\n",
       "      <th>2022-10-05</th>\n",
       "      <td>55.50</td>\n",
       "      <td>55.50</td>\n",
       "      <td>56.45</td>\n",
       "      <td>54.60</td>\n",
       "      <td>373.36K</td>\n",
       "      <td>1.83%</td>\n",
       "    </tr>\n",
       "    <tr>\n",
       "      <th>2022-10-06</th>\n",
       "      <td>53.65</td>\n",
       "      <td>55.40</td>\n",
       "      <td>55.40</td>\n",
       "      <td>53.65</td>\n",
       "      <td>233.26K</td>\n",
       "      <td>-3.33%</td>\n",
       "    </tr>\n",
       "    <tr>\n",
       "      <th>2022-10-07</th>\n",
       "      <td>55.00</td>\n",
       "      <td>54.50</td>\n",
       "      <td>55.00</td>\n",
       "      <td>53.65</td>\n",
       "      <td>49.01K</td>\n",
       "      <td>2.52%</td>\n",
       "    </tr>\n",
       "    <tr>\n",
       "      <th>2022-10-10</th>\n",
       "      <td>54.80</td>\n",
       "      <td>53.80</td>\n",
       "      <td>55.00</td>\n",
       "      <td>53.80</td>\n",
       "      <td>83.51K</td>\n",
       "      <td>-0.36%</td>\n",
       "    </tr>\n",
       "  </tbody>\n",
       "</table>\n",
       "<p>492 rows × 6 columns</p>\n",
       "</div>"
      ],
      "text/plain": [
       "            Price   Open   High    Low     Vol. Change %\n",
       "Date                                                    \n",
       "2020-10-09  63.65  64.30  64.30  63.50  567.22K   -2.00%\n",
       "2020-10-12  64.25  64.00  65.00  63.70  568.32K    0.94%\n",
       "2020-10-13  66.30  65.00  67.00  65.00  263.78K    3.19%\n",
       "2020-10-14  67.00  66.30  67.00  66.20   61.18K    1.06%\n",
       "2020-10-15  67.25  66.80  67.25  65.30  112.96K    0.37%\n",
       "...           ...    ...    ...    ...      ...      ...\n",
       "2022-10-04  54.50  54.55  55.50  54.40  717.19K    0.09%\n",
       "2022-10-05  55.50  55.50  56.45  54.60  373.36K    1.83%\n",
       "2022-10-06  53.65  55.40  55.40  53.65  233.26K   -3.33%\n",
       "2022-10-07  55.00  54.50  55.00  53.65   49.01K    2.52%\n",
       "2022-10-10  54.80  53.80  55.00  53.80   83.51K   -0.36%\n",
       "\n",
       "[492 rows x 6 columns]"
      ]
     },
     "execution_count": 135,
     "metadata": {},
     "output_type": "execute_result"
    }
   ],
   "source": [
    "file = 'C:\\\\Users\\\\Carther\\\\Desktop\\\\COE_Q_2\\\\RRHI_Historical_Data.csv'\n",
    "df = pd.read_csv(file, parse_dates = ['Date'], index_col = 'Date')\n",
    "df = df.iloc[::-1]\n",
    "df"
   ]
  },
  {
   "cell_type": "markdown",
   "id": "eaa1eb2e-0aeb-4336-9ae2-948fc2fdd143",
   "metadata": {},
   "source": [
    "<font size=\"5\">***Machine Learning Step: Preparing Data***</font>"
   ]
  },
  {
   "cell_type": "markdown",
   "id": "7a6adf64-dd75-4b4c-a421-cc97a2d02e6a",
   "metadata": {},
   "source": [
    "***Data Pre-processing***"
   ]
  },
  {
   "cell_type": "code",
   "execution_count": 154,
   "id": "4aa573b9-5e3f-4fcd-889e-a91d8dfe67bd",
   "metadata": {},
   "outputs": [],
   "source": [
    "# Split train data and test data\n",
    "train_size = int(len(df)*0.8)\n",
    "\n",
    "# use iloc to select a number of rows\n",
    "train_data = df.iloc[:train_size,1:2].values\n",
    "test_data = df.iloc[train_size:,1:2].values"
   ]
  },
  {
   "cell_type": "code",
   "execution_count": 137,
   "id": "2a45829c-6462-4d89-b6a6-e1eccefb95d6",
   "metadata": {},
   "outputs": [],
   "source": [
    "# Scale data\n",
    "scaler = MinMaxScaler().fit(train_data)\n",
    "\n",
    "train_scaled = scaler.transform(train_data)\n",
    "test_scaled = scaler.transform(test_data)"
   ]
  },
  {
   "cell_type": "code",
   "execution_count": 138,
   "id": "16d458c3-efb4-4f5a-926f-f8a859255d92",
   "metadata": {},
   "outputs": [
    {
     "name": "stdout",
     "output_type": "stream",
     "text": [
      "X_train.shape:  (363, 30, 1)\n",
      "y_train.shape:  (363, 1)\n",
      "X_test.shape:  (69, 30, 1)\n",
      "y_test.shape:  (69, 1)\n"
     ]
    }
   ],
   "source": [
    "# Create input dataset function\n",
    "def create_dataset (X, look_back = 1):\n",
    "    Xs, ys = [], []\n",
    "    \n",
    "    for i in range(len(X)-look_back):\n",
    "        v = X[i:i+look_back]\n",
    "        Xs.append(v)\n",
    "        ys.append(X[i+look_back])\n",
    "        \n",
    "    return np.array(Xs), np.array(ys)\n",
    "\n",
    "# create x and y test and train\n",
    "X_train, y_train = create_dataset(train_scaled,30)\n",
    "X_test, y_test = create_dataset(test_scaled,30)\n",
    "\n",
    "print('X_train.shape: ', X_train.shape)\n",
    "print('y_train.shape: ', y_train.shape)\n",
    "print('X_test.shape: ', X_test.shape) \n",
    "print('y_test.shape: ', y_test.shape)"
   ]
  },
  {
   "cell_type": "markdown",
   "id": "91ab2ac4-bc38-44e3-ae04-f796026817a8",
   "metadata": {},
   "source": [
    "<font size=\"5\">***Machine Learning Step: Choose Model - Gated Recurrent Unit***</font>"
   ]
  },
  {
   "cell_type": "markdown",
   "id": "dace380c-f81e-4d61-9f38-efe86c13764c",
   "metadata": {},
   "source": [
    "***Model Creation***"
   ]
  },
  {
   "cell_type": "code",
   "execution_count": 139,
   "id": "70959032-aaba-41e5-9839-4811d5881dab",
   "metadata": {},
   "outputs": [],
   "source": [
    "# Create GRU model\n",
    "def create_gru(units):\n",
    "    model = Sequential()\n",
    "    \n",
    "    # Input layer \n",
    "    model.add(GRU (units = units, return_sequences = True, \n",
    "                 input_shape = [X_train.shape[1], X_train.shape[2]]))\n",
    "    model.add(Dropout(0.2))\n",
    "    \n",
    "    # Hidden layer\n",
    "    model.add(GRU(units = units, activation='tanh', recurrent_activation='sigmoid', stateful=False))            \n",
    "    model.add(Dropout(0.2))\n",
    "    model.add(Dense(units = 1)) \n",
    "    \n",
    "    #compile model\n",
    "    model.compile(optimizer='adam', # default='rmsprop'\n",
    "                  loss='mean_squared_error', # Loss function to be optimized\n",
    "                  metrics=['MeanSquaredError', 'MeanAbsoluteError'],\n",
    "                  loss_weights=None,\n",
    "                  weighted_metrics=None,\n",
    "                  run_eagerly=None,\n",
    "                  steps_per_execution=None\n",
    "                 )\n",
    "   \n",
    "    return model"
   ]
  },
  {
   "cell_type": "markdown",
   "id": "fff52716-58ae-409e-9bb2-1408e7268bd8",
   "metadata": {},
   "source": [
    "***Model Summary***"
   ]
  },
  {
   "cell_type": "code",
   "execution_count": 140,
   "id": "ec730b98-7724-4035-8074-d43081c7863e",
   "metadata": {},
   "outputs": [
    {
     "name": "stdout",
     "output_type": "stream",
     "text": [
      "Model: \"sequential_3\"\n",
      "_________________________________________________________________\n",
      " Layer (type)                Output Shape              Param #   \n",
      "=================================================================\n",
      " gru_6 (GRU)                 (None, 30, 64)            12864     \n",
      "                                                                 \n",
      " dropout_6 (Dropout)         (None, 30, 64)            0         \n",
      "                                                                 \n",
      " gru_7 (GRU)                 (None, 64)                24960     \n",
      "                                                                 \n",
      " dropout_7 (Dropout)         (None, 64)                0         \n",
      "                                                                 \n",
      " dense_3 (Dense)             (None, 1)                 65        \n",
      "                                                                 \n",
      "=================================================================\n",
      "Total params: 37,889\n",
      "Trainable params: 37,889\n",
      "Non-trainable params: 0\n",
      "_________________________________________________________________\n"
     ]
    }
   ],
   "source": [
    "#set model units\n",
    "model_gru = create_gru(64)\n",
    "\n",
    "#show model summary\n",
    "model_gru.summary()"
   ]
  },
  {
   "cell_type": "markdown",
   "id": "3ce20d28-4252-4b0a-a8e1-4b65e867e0fd",
   "metadata": {},
   "source": [
    "<font size=\"5\">***Machine Learning Step: Train Model***</font>"
   ]
  },
  {
   "cell_type": "markdown",
   "id": "0bd27dc7-daff-4edd-b993-ab2a6584fcf0",
   "metadata": {},
   "source": [
    "***Model Fitting***"
   ]
  },
  {
   "cell_type": "code",
   "execution_count": 141,
   "id": "7d5364bb-1617-49ce-af4e-41c7f02c19d8",
   "metadata": {},
   "outputs": [],
   "source": [
    "#create function to fit model\n",
    "def fit_model(model):\n",
    "    early_stop = keras.callbacks.EarlyStopping(monitor = 'val_loss',\n",
    "                                               patience = 10)\n",
    "    history = model.fit(X_train, y_train, batch_size=5, epochs=100, verbose=1, callbacks= None, validation_split=0.2,\n",
    "                        shuffle=False, class_weight=None,\n",
    "                        sample_weight=None, #used for weighting the loss function during training only\n",
    "                        initial_epoch=0, steps_per_epoch=None, validation_steps=None, validation_batch_size=None,\n",
    "                        validation_freq=1, # check every epoch\n",
    "                        max_queue_size=10, workers=1, use_multiprocessing=True,\n",
    "                       )\n",
    "    return history"
   ]
  },
  {
   "cell_type": "code",
   "execution_count": 142,
   "id": "554312ad-7985-4757-89f9-43de3a88b9e5",
   "metadata": {},
   "outputs": [
    {
     "name": "stdout",
     "output_type": "stream",
     "text": [
      "Epoch 1/100\n",
      "58/58 [==============================] - 4s 30ms/step - loss: 0.0688 - mean_squared_error: 0.0688 - mean_absolute_error: 0.1746 - val_loss: 0.0120 - val_mean_squared_error: 0.0120 - val_mean_absolute_error: 0.0946\n",
      "Epoch 2/100\n",
      "58/58 [==============================] - 1s 18ms/step - loss: 0.0115 - mean_squared_error: 0.0115 - mean_absolute_error: 0.0780 - val_loss: 0.0125 - val_mean_squared_error: 0.0125 - val_mean_absolute_error: 0.0978\n",
      "Epoch 3/100\n",
      "58/58 [==============================] - 1s 22ms/step - loss: 0.0122 - mean_squared_error: 0.0122 - mean_absolute_error: 0.0825 - val_loss: 0.0155 - val_mean_squared_error: 0.0155 - val_mean_absolute_error: 0.1100\n",
      "Epoch 4/100\n",
      "58/58 [==============================] - 1s 19ms/step - loss: 0.0113 - mean_squared_error: 0.0113 - mean_absolute_error: 0.0789 - val_loss: 0.0163 - val_mean_squared_error: 0.0163 - val_mean_absolute_error: 0.1135\n",
      "Epoch 5/100\n",
      "58/58 [==============================] - 1s 19ms/step - loss: 0.0111 - mean_squared_error: 0.0111 - mean_absolute_error: 0.0788 - val_loss: 0.0195 - val_mean_squared_error: 0.0195 - val_mean_absolute_error: 0.1272\n",
      "Epoch 6/100\n",
      "58/58 [==============================] - 1s 19ms/step - loss: 0.0118 - mean_squared_error: 0.0118 - mean_absolute_error: 0.0804 - val_loss: 0.0223 - val_mean_squared_error: 0.0223 - val_mean_absolute_error: 0.1378\n",
      "Epoch 7/100\n",
      "58/58 [==============================] - 1s 19ms/step - loss: 0.0125 - mean_squared_error: 0.0125 - mean_absolute_error: 0.0832 - val_loss: 0.0219 - val_mean_squared_error: 0.0219 - val_mean_absolute_error: 0.1370\n",
      "Epoch 8/100\n",
      "58/58 [==============================] - 1s 21ms/step - loss: 0.0113 - mean_squared_error: 0.0113 - mean_absolute_error: 0.0802 - val_loss: 0.0213 - val_mean_squared_error: 0.0213 - val_mean_absolute_error: 0.1353\n",
      "Epoch 9/100\n",
      "58/58 [==============================] - 1s 19ms/step - loss: 0.0123 - mean_squared_error: 0.0123 - mean_absolute_error: 0.0810 - val_loss: 0.0185 - val_mean_squared_error: 0.0185 - val_mean_absolute_error: 0.1251\n",
      "Epoch 10/100\n",
      "58/58 [==============================] - 1s 20ms/step - loss: 0.0115 - mean_squared_error: 0.0115 - mean_absolute_error: 0.0806 - val_loss: 0.0204 - val_mean_squared_error: 0.0204 - val_mean_absolute_error: 0.1326\n",
      "Epoch 11/100\n",
      "58/58 [==============================] - 1s 20ms/step - loss: 0.0112 - mean_squared_error: 0.0112 - mean_absolute_error: 0.0793 - val_loss: 0.0269 - val_mean_squared_error: 0.0269 - val_mean_absolute_error: 0.1548\n",
      "Epoch 12/100\n",
      "58/58 [==============================] - 1s 19ms/step - loss: 0.0122 - mean_squared_error: 0.0122 - mean_absolute_error: 0.0827 - val_loss: 0.0252 - val_mean_squared_error: 0.0252 - val_mean_absolute_error: 0.1498\n",
      "Epoch 13/100\n",
      "58/58 [==============================] - 1s 21ms/step - loss: 0.0123 - mean_squared_error: 0.0123 - mean_absolute_error: 0.0820 - val_loss: 0.0273 - val_mean_squared_error: 0.0273 - val_mean_absolute_error: 0.1567\n",
      "Epoch 14/100\n",
      "58/58 [==============================] - 1s 19ms/step - loss: 0.0137 - mean_squared_error: 0.0137 - mean_absolute_error: 0.0873 - val_loss: 0.0259 - val_mean_squared_error: 0.0259 - val_mean_absolute_error: 0.1526\n",
      "Epoch 15/100\n",
      "58/58 [==============================] - 1s 20ms/step - loss: 0.0115 - mean_squared_error: 0.0115 - mean_absolute_error: 0.0815 - val_loss: 0.0256 - val_mean_squared_error: 0.0256 - val_mean_absolute_error: 0.1518\n",
      "Epoch 16/100\n",
      "58/58 [==============================] - 1s 20ms/step - loss: 0.0124 - mean_squared_error: 0.0124 - mean_absolute_error: 0.0832 - val_loss: 0.0282 - val_mean_squared_error: 0.0282 - val_mean_absolute_error: 0.1601\n",
      "Epoch 17/100\n",
      "58/58 [==============================] - 1s 21ms/step - loss: 0.0120 - mean_squared_error: 0.0120 - mean_absolute_error: 0.0840 - val_loss: 0.0224 - val_mean_squared_error: 0.0224 - val_mean_absolute_error: 0.1413\n",
      "Epoch 18/100\n",
      "58/58 [==============================] - 1s 23ms/step - loss: 0.0113 - mean_squared_error: 0.0113 - mean_absolute_error: 0.0793 - val_loss: 0.0188 - val_mean_squared_error: 0.0188 - val_mean_absolute_error: 0.1283\n",
      "Epoch 19/100\n",
      "58/58 [==============================] - 1s 19ms/step - loss: 0.0110 - mean_squared_error: 0.0110 - mean_absolute_error: 0.0795 - val_loss: 0.0203 - val_mean_squared_error: 0.0203 - val_mean_absolute_error: 0.1341\n",
      "Epoch 20/100\n",
      "58/58 [==============================] - 1s 20ms/step - loss: 0.0106 - mean_squared_error: 0.0106 - mean_absolute_error: 0.0793 - val_loss: 0.0197 - val_mean_squared_error: 0.0197 - val_mean_absolute_error: 0.1317\n",
      "Epoch 21/100\n",
      "58/58 [==============================] - 1s 19ms/step - loss: 0.0100 - mean_squared_error: 0.0100 - mean_absolute_error: 0.0752 - val_loss: 0.0194 - val_mean_squared_error: 0.0194 - val_mean_absolute_error: 0.1309\n",
      "Epoch 22/100\n",
      "58/58 [==============================] - 1s 20ms/step - loss: 0.0099 - mean_squared_error: 0.0099 - mean_absolute_error: 0.0776 - val_loss: 0.0176 - val_mean_squared_error: 0.0176 - val_mean_absolute_error: 0.1239\n",
      "Epoch 23/100\n",
      "58/58 [==============================] - 1s 20ms/step - loss: 0.0099 - mean_squared_error: 0.0099 - mean_absolute_error: 0.0754 - val_loss: 0.0160 - val_mean_squared_error: 0.0160 - val_mean_absolute_error: 0.1175\n",
      "Epoch 24/100\n",
      "58/58 [==============================] - 1s 20ms/step - loss: 0.0086 - mean_squared_error: 0.0086 - mean_absolute_error: 0.0726 - val_loss: 0.0185 - val_mean_squared_error: 0.0185 - val_mean_absolute_error: 0.1274\n",
      "Epoch 25/100\n",
      "58/58 [==============================] - 1s 19ms/step - loss: 0.0100 - mean_squared_error: 0.0100 - mean_absolute_error: 0.0745 - val_loss: 0.0175 - val_mean_squared_error: 0.0175 - val_mean_absolute_error: 0.1234\n",
      "Epoch 26/100\n",
      "58/58 [==============================] - 1s 26ms/step - loss: 0.0097 - mean_squared_error: 0.0097 - mean_absolute_error: 0.0760 - val_loss: 0.0198 - val_mean_squared_error: 0.0198 - val_mean_absolute_error: 0.1325\n",
      "Epoch 27/100\n",
      "58/58 [==============================] - 1s 20ms/step - loss: 0.0110 - mean_squared_error: 0.0110 - mean_absolute_error: 0.0811 - val_loss: 0.0173 - val_mean_squared_error: 0.0173 - val_mean_absolute_error: 0.1231\n",
      "Epoch 28/100\n",
      "58/58 [==============================] - 1s 19ms/step - loss: 0.0102 - mean_squared_error: 0.0102 - mean_absolute_error: 0.0765 - val_loss: 0.0194 - val_mean_squared_error: 0.0194 - val_mean_absolute_error: 0.1311\n",
      "Epoch 29/100\n",
      "58/58 [==============================] - 1s 19ms/step - loss: 0.0095 - mean_squared_error: 0.0095 - mean_absolute_error: 0.0742 - val_loss: 0.0124 - val_mean_squared_error: 0.0124 - val_mean_absolute_error: 0.1020\n",
      "Epoch 30/100\n",
      "58/58 [==============================] - 2s 28ms/step - loss: 0.0070 - mean_squared_error: 0.0070 - mean_absolute_error: 0.0647 - val_loss: 0.0137 - val_mean_squared_error: 0.0137 - val_mean_absolute_error: 0.1079\n",
      "Epoch 31/100\n",
      "58/58 [==============================] - 1s 24ms/step - loss: 0.0087 - mean_squared_error: 0.0087 - mean_absolute_error: 0.0732 - val_loss: 0.0145 - val_mean_squared_error: 0.0145 - val_mean_absolute_error: 0.1112\n",
      "Epoch 32/100\n",
      "58/58 [==============================] - 1s 23ms/step - loss: 0.0088 - mean_squared_error: 0.0088 - mean_absolute_error: 0.0706 - val_loss: 0.0154 - val_mean_squared_error: 0.0154 - val_mean_absolute_error: 0.1153\n",
      "Epoch 33/100\n",
      "58/58 [==============================] - 1s 23ms/step - loss: 0.0084 - mean_squared_error: 0.0084 - mean_absolute_error: 0.0681 - val_loss: 0.0116 - val_mean_squared_error: 0.0116 - val_mean_absolute_error: 0.0981\n",
      "Epoch 34/100\n",
      "58/58 [==============================] - 1s 20ms/step - loss: 0.0069 - mean_squared_error: 0.0069 - mean_absolute_error: 0.0642 - val_loss: 0.0114 - val_mean_squared_error: 0.0114 - val_mean_absolute_error: 0.0971\n",
      "Epoch 35/100\n",
      "58/58 [==============================] - 1s 21ms/step - loss: 0.0069 - mean_squared_error: 0.0069 - mean_absolute_error: 0.0647 - val_loss: 0.0119 - val_mean_squared_error: 0.0119 - val_mean_absolute_error: 0.0996\n",
      "Epoch 36/100\n",
      "58/58 [==============================] - 1s 25ms/step - loss: 0.0072 - mean_squared_error: 0.0072 - mean_absolute_error: 0.0649 - val_loss: 0.0107 - val_mean_squared_error: 0.0107 - val_mean_absolute_error: 0.0936\n",
      "Epoch 37/100\n",
      "58/58 [==============================] - 1s 26ms/step - loss: 0.0074 - mean_squared_error: 0.0074 - mean_absolute_error: 0.0663 - val_loss: 0.0121 - val_mean_squared_error: 0.0121 - val_mean_absolute_error: 0.1004\n",
      "Epoch 38/100\n",
      "58/58 [==============================] - 1s 22ms/step - loss: 0.0076 - mean_squared_error: 0.0076 - mean_absolute_error: 0.0679 - val_loss: 0.0133 - val_mean_squared_error: 0.0133 - val_mean_absolute_error: 0.1061\n",
      "Epoch 39/100\n",
      "58/58 [==============================] - 1s 21ms/step - loss: 0.0077 - mean_squared_error: 0.0077 - mean_absolute_error: 0.0673 - val_loss: 0.0133 - val_mean_squared_error: 0.0133 - val_mean_absolute_error: 0.1060\n",
      "Epoch 40/100\n",
      "58/58 [==============================] - 1s 21ms/step - loss: 0.0069 - mean_squared_error: 0.0069 - mean_absolute_error: 0.0655 - val_loss: 0.0116 - val_mean_squared_error: 0.0116 - val_mean_absolute_error: 0.0979\n",
      "Epoch 41/100\n",
      "58/58 [==============================] - 1s 20ms/step - loss: 0.0071 - mean_squared_error: 0.0071 - mean_absolute_error: 0.0664 - val_loss: 0.0145 - val_mean_squared_error: 0.0145 - val_mean_absolute_error: 0.1114\n",
      "Epoch 42/100\n",
      "58/58 [==============================] - 1s 20ms/step - loss: 0.0076 - mean_squared_error: 0.0076 - mean_absolute_error: 0.0653 - val_loss: 0.0142 - val_mean_squared_error: 0.0142 - val_mean_absolute_error: 0.1100\n",
      "Epoch 43/100\n",
      "58/58 [==============================] - 1s 20ms/step - loss: 0.0075 - mean_squared_error: 0.0075 - mean_absolute_error: 0.0653 - val_loss: 0.0129 - val_mean_squared_error: 0.0129 - val_mean_absolute_error: 0.1042\n",
      "Epoch 44/100\n",
      "58/58 [==============================] - 1s 19ms/step - loss: 0.0069 - mean_squared_error: 0.0069 - mean_absolute_error: 0.0636 - val_loss: 0.0115 - val_mean_squared_error: 0.0115 - val_mean_absolute_error: 0.0976\n",
      "Epoch 45/100\n",
      "58/58 [==============================] - 1s 19ms/step - loss: 0.0072 - mean_squared_error: 0.0072 - mean_absolute_error: 0.0669 - val_loss: 0.0121 - val_mean_squared_error: 0.0121 - val_mean_absolute_error: 0.1003\n",
      "Epoch 46/100\n",
      "58/58 [==============================] - 1s 20ms/step - loss: 0.0069 - mean_squared_error: 0.0069 - mean_absolute_error: 0.0642 - val_loss: 0.0143 - val_mean_squared_error: 0.0143 - val_mean_absolute_error: 0.1106\n",
      "Epoch 47/100\n",
      "58/58 [==============================] - 1s 20ms/step - loss: 0.0073 - mean_squared_error: 0.0073 - mean_absolute_error: 0.0659 - val_loss: 0.0121 - val_mean_squared_error: 0.0121 - val_mean_absolute_error: 0.1001\n",
      "Epoch 48/100\n",
      "58/58 [==============================] - 1s 20ms/step - loss: 0.0064 - mean_squared_error: 0.0064 - mean_absolute_error: 0.0631 - val_loss: 0.0098 - val_mean_squared_error: 0.0098 - val_mean_absolute_error: 0.0879\n",
      "Epoch 49/100\n",
      "58/58 [==============================] - 1s 20ms/step - loss: 0.0067 - mean_squared_error: 0.0067 - mean_absolute_error: 0.0614 - val_loss: 0.0145 - val_mean_squared_error: 0.0145 - val_mean_absolute_error: 0.1114\n",
      "Epoch 50/100\n",
      "58/58 [==============================] - 1s 19ms/step - loss: 0.0078 - mean_squared_error: 0.0078 - mean_absolute_error: 0.0679 - val_loss: 0.0091 - val_mean_squared_error: 0.0091 - val_mean_absolute_error: 0.0824\n",
      "Epoch 51/100\n",
      "58/58 [==============================] - 1s 20ms/step - loss: 0.0063 - mean_squared_error: 0.0063 - mean_absolute_error: 0.0607 - val_loss: 0.0118 - val_mean_squared_error: 0.0118 - val_mean_absolute_error: 0.0988\n",
      "Epoch 52/100\n",
      "58/58 [==============================] - 1s 19ms/step - loss: 0.0067 - mean_squared_error: 0.0067 - mean_absolute_error: 0.0618 - val_loss: 0.0122 - val_mean_squared_error: 0.0122 - val_mean_absolute_error: 0.0998\n",
      "Epoch 53/100\n",
      "58/58 [==============================] - 1s 20ms/step - loss: 0.0068 - mean_squared_error: 0.0068 - mean_absolute_error: 0.0642 - val_loss: 0.0139 - val_mean_squared_error: 0.0139 - val_mean_absolute_error: 0.1080\n",
      "Epoch 54/100\n",
      "58/58 [==============================] - 1s 22ms/step - loss: 0.0078 - mean_squared_error: 0.0078 - mean_absolute_error: 0.0692 - val_loss: 0.0079 - val_mean_squared_error: 0.0079 - val_mean_absolute_error: 0.0745\n",
      "Epoch 55/100\n",
      "58/58 [==============================] - 1s 19ms/step - loss: 0.0059 - mean_squared_error: 0.0059 - mean_absolute_error: 0.0586 - val_loss: 0.0115 - val_mean_squared_error: 0.0115 - val_mean_absolute_error: 0.0971\n",
      "Epoch 56/100\n",
      "58/58 [==============================] - 1s 20ms/step - loss: 0.0057 - mean_squared_error: 0.0057 - mean_absolute_error: 0.0587 - val_loss: 0.0097 - val_mean_squared_error: 0.0097 - val_mean_absolute_error: 0.0873\n",
      "Epoch 57/100\n",
      "58/58 [==============================] - 1s 21ms/step - loss: 0.0056 - mean_squared_error: 0.0056 - mean_absolute_error: 0.0585 - val_loss: 0.0074 - val_mean_squared_error: 0.0074 - val_mean_absolute_error: 0.0725\n",
      "Epoch 58/100\n",
      "58/58 [==============================] - 1s 20ms/step - loss: 0.0064 - mean_squared_error: 0.0064 - mean_absolute_error: 0.0616 - val_loss: 0.0094 - val_mean_squared_error: 0.0094 - val_mean_absolute_error: 0.0837\n",
      "Epoch 59/100\n",
      "58/58 [==============================] - 1s 20ms/step - loss: 0.0064 - mean_squared_error: 0.0064 - mean_absolute_error: 0.0618 - val_loss: 0.0104 - val_mean_squared_error: 0.0104 - val_mean_absolute_error: 0.0909\n",
      "Epoch 60/100\n",
      "58/58 [==============================] - 1s 20ms/step - loss: 0.0072 - mean_squared_error: 0.0072 - mean_absolute_error: 0.0655 - val_loss: 0.0092 - val_mean_squared_error: 0.0092 - val_mean_absolute_error: 0.0823\n",
      "Epoch 61/100\n",
      "58/58 [==============================] - 1s 19ms/step - loss: 0.0075 - mean_squared_error: 0.0075 - mean_absolute_error: 0.0650 - val_loss: 0.0102 - val_mean_squared_error: 0.0102 - val_mean_absolute_error: 0.0878\n",
      "Epoch 62/100\n",
      "58/58 [==============================] - 1s 19ms/step - loss: 0.0061 - mean_squared_error: 0.0061 - mean_absolute_error: 0.0598 - val_loss: 0.0107 - val_mean_squared_error: 0.0107 - val_mean_absolute_error: 0.0911\n",
      "Epoch 63/100\n",
      "58/58 [==============================] - 1s 20ms/step - loss: 0.0069 - mean_squared_error: 0.0069 - mean_absolute_error: 0.0648 - val_loss: 0.0066 - val_mean_squared_error: 0.0066 - val_mean_absolute_error: 0.0658\n",
      "Epoch 64/100\n",
      "58/58 [==============================] - 1s 19ms/step - loss: 0.0054 - mean_squared_error: 0.0054 - mean_absolute_error: 0.0566 - val_loss: 0.0053 - val_mean_squared_error: 0.0053 - val_mean_absolute_error: 0.0587\n",
      "Epoch 65/100\n",
      "58/58 [==============================] - 1s 20ms/step - loss: 0.0049 - mean_squared_error: 0.0049 - mean_absolute_error: 0.0554 - val_loss: 0.0046 - val_mean_squared_error: 0.0046 - val_mean_absolute_error: 0.0539\n",
      "Epoch 66/100\n",
      "58/58 [==============================] - 1s 20ms/step - loss: 0.0057 - mean_squared_error: 0.0057 - mean_absolute_error: 0.0605 - val_loss: 0.0037 - val_mean_squared_error: 0.0037 - val_mean_absolute_error: 0.0463\n",
      "Epoch 67/100\n",
      "58/58 [==============================] - 1s 20ms/step - loss: 0.0048 - mean_squared_error: 0.0048 - mean_absolute_error: 0.0540 - val_loss: 0.0059 - val_mean_squared_error: 0.0059 - val_mean_absolute_error: 0.0630\n",
      "Epoch 68/100\n",
      "58/58 [==============================] - 1s 21ms/step - loss: 0.0055 - mean_squared_error: 0.0055 - mean_absolute_error: 0.0566 - val_loss: 0.0057 - val_mean_squared_error: 0.0057 - val_mean_absolute_error: 0.0607\n",
      "Epoch 69/100\n",
      "58/58 [==============================] - 1s 19ms/step - loss: 0.0058 - mean_squared_error: 0.0058 - mean_absolute_error: 0.0577 - val_loss: 0.0064 - val_mean_squared_error: 0.0064 - val_mean_absolute_error: 0.0660\n",
      "Epoch 70/100\n",
      "58/58 [==============================] - 1s 20ms/step - loss: 0.0049 - mean_squared_error: 0.0049 - mean_absolute_error: 0.0538 - val_loss: 0.0068 - val_mean_squared_error: 0.0068 - val_mean_absolute_error: 0.0679\n",
      "Epoch 71/100\n",
      "58/58 [==============================] - 1s 19ms/step - loss: 0.0058 - mean_squared_error: 0.0058 - mean_absolute_error: 0.0603 - val_loss: 0.0038 - val_mean_squared_error: 0.0038 - val_mean_absolute_error: 0.0463\n",
      "Epoch 72/100\n",
      "58/58 [==============================] - 1s 19ms/step - loss: 0.0049 - mean_squared_error: 0.0049 - mean_absolute_error: 0.0526 - val_loss: 0.0047 - val_mean_squared_error: 0.0047 - val_mean_absolute_error: 0.0536\n",
      "Epoch 73/100\n",
      "58/58 [==============================] - 1s 19ms/step - loss: 0.0041 - mean_squared_error: 0.0041 - mean_absolute_error: 0.0502 - val_loss: 0.0042 - val_mean_squared_error: 0.0042 - val_mean_absolute_error: 0.0505\n",
      "Epoch 74/100\n",
      "58/58 [==============================] - 1s 19ms/step - loss: 0.0044 - mean_squared_error: 0.0044 - mean_absolute_error: 0.0515 - val_loss: 0.0039 - val_mean_squared_error: 0.0039 - val_mean_absolute_error: 0.0486\n",
      "Epoch 75/100\n",
      "58/58 [==============================] - 1s 19ms/step - loss: 0.0048 - mean_squared_error: 0.0048 - mean_absolute_error: 0.0529 - val_loss: 0.0037 - val_mean_squared_error: 0.0037 - val_mean_absolute_error: 0.0461\n",
      "Epoch 76/100\n",
      "58/58 [==============================] - 1s 23ms/step - loss: 0.0049 - mean_squared_error: 0.0049 - mean_absolute_error: 0.0552 - val_loss: 0.0070 - val_mean_squared_error: 0.0070 - val_mean_absolute_error: 0.0700\n",
      "Epoch 77/100\n",
      "58/58 [==============================] - 1s 25ms/step - loss: 0.0054 - mean_squared_error: 0.0054 - mean_absolute_error: 0.0577 - val_loss: 0.0058 - val_mean_squared_error: 0.0058 - val_mean_absolute_error: 0.0605\n",
      "Epoch 78/100\n",
      "58/58 [==============================] - 1s 24ms/step - loss: 0.0053 - mean_squared_error: 0.0053 - mean_absolute_error: 0.0568 - val_loss: 0.0036 - val_mean_squared_error: 0.0036 - val_mean_absolute_error: 0.0438\n",
      "Epoch 79/100\n",
      "58/58 [==============================] - 1s 25ms/step - loss: 0.0047 - mean_squared_error: 0.0047 - mean_absolute_error: 0.0540 - val_loss: 0.0037 - val_mean_squared_error: 0.0037 - val_mean_absolute_error: 0.0452\n",
      "Epoch 80/100\n",
      "58/58 [==============================] - 1s 23ms/step - loss: 0.0043 - mean_squared_error: 0.0043 - mean_absolute_error: 0.0519 - val_loss: 0.0031 - val_mean_squared_error: 0.0031 - val_mean_absolute_error: 0.0406\n",
      "Epoch 81/100\n",
      "58/58 [==============================] - 1s 22ms/step - loss: 0.0043 - mean_squared_error: 0.0043 - mean_absolute_error: 0.0511 - val_loss: 0.0030 - val_mean_squared_error: 0.0030 - val_mean_absolute_error: 0.0395\n",
      "Epoch 82/100\n",
      "58/58 [==============================] - 1s 18ms/step - loss: 0.0040 - mean_squared_error: 0.0040 - mean_absolute_error: 0.0482 - val_loss: 0.0033 - val_mean_squared_error: 0.0033 - val_mean_absolute_error: 0.0435\n",
      "Epoch 83/100\n",
      "58/58 [==============================] - 1s 17ms/step - loss: 0.0043 - mean_squared_error: 0.0043 - mean_absolute_error: 0.0506 - val_loss: 0.0038 - val_mean_squared_error: 0.0038 - val_mean_absolute_error: 0.0470\n",
      "Epoch 84/100\n",
      "58/58 [==============================] - 1s 16ms/step - loss: 0.0039 - mean_squared_error: 0.0039 - mean_absolute_error: 0.0501 - val_loss: 0.0033 - val_mean_squared_error: 0.0033 - val_mean_absolute_error: 0.0436\n",
      "Epoch 85/100\n",
      "58/58 [==============================] - 1s 17ms/step - loss: 0.0041 - mean_squared_error: 0.0041 - mean_absolute_error: 0.0507 - val_loss: 0.0043 - val_mean_squared_error: 0.0043 - val_mean_absolute_error: 0.0504\n",
      "Epoch 86/100\n",
      "58/58 [==============================] - 1s 16ms/step - loss: 0.0042 - mean_squared_error: 0.0042 - mean_absolute_error: 0.0502 - val_loss: 0.0034 - val_mean_squared_error: 0.0034 - val_mean_absolute_error: 0.0435\n",
      "Epoch 87/100\n",
      "58/58 [==============================] - 1s 17ms/step - loss: 0.0042 - mean_squared_error: 0.0042 - mean_absolute_error: 0.0507 - val_loss: 0.0034 - val_mean_squared_error: 0.0034 - val_mean_absolute_error: 0.0429\n",
      "Epoch 88/100\n",
      "58/58 [==============================] - 1s 16ms/step - loss: 0.0042 - mean_squared_error: 0.0042 - mean_absolute_error: 0.0515 - val_loss: 0.0032 - val_mean_squared_error: 0.0032 - val_mean_absolute_error: 0.0414\n",
      "Epoch 89/100\n",
      "58/58 [==============================] - 1s 17ms/step - loss: 0.0036 - mean_squared_error: 0.0036 - mean_absolute_error: 0.0473 - val_loss: 0.0035 - val_mean_squared_error: 0.0035 - val_mean_absolute_error: 0.0430\n",
      "Epoch 90/100\n",
      "58/58 [==============================] - 1s 17ms/step - loss: 0.0045 - mean_squared_error: 0.0045 - mean_absolute_error: 0.0523 - val_loss: 0.0050 - val_mean_squared_error: 0.0050 - val_mean_absolute_error: 0.0534\n",
      "Epoch 91/100\n",
      "58/58 [==============================] - 1s 17ms/step - loss: 0.0042 - mean_squared_error: 0.0042 - mean_absolute_error: 0.0507 - val_loss: 0.0033 - val_mean_squared_error: 0.0033 - val_mean_absolute_error: 0.0427\n",
      "Epoch 92/100\n",
      "58/58 [==============================] - 1s 16ms/step - loss: 0.0041 - mean_squared_error: 0.0041 - mean_absolute_error: 0.0496 - val_loss: 0.0031 - val_mean_squared_error: 0.0031 - val_mean_absolute_error: 0.0408\n",
      "Epoch 93/100\n",
      "58/58 [==============================] - 1s 17ms/step - loss: 0.0039 - mean_squared_error: 0.0039 - mean_absolute_error: 0.0487 - val_loss: 0.0033 - val_mean_squared_error: 0.0033 - val_mean_absolute_error: 0.0424\n",
      "Epoch 94/100\n",
      "58/58 [==============================] - 1s 18ms/step - loss: 0.0040 - mean_squared_error: 0.0040 - mean_absolute_error: 0.0483 - val_loss: 0.0036 - val_mean_squared_error: 0.0036 - val_mean_absolute_error: 0.0433\n",
      "Epoch 95/100\n",
      "58/58 [==============================] - 1s 19ms/step - loss: 0.0042 - mean_squared_error: 0.0042 - mean_absolute_error: 0.0495 - val_loss: 0.0033 - val_mean_squared_error: 0.0033 - val_mean_absolute_error: 0.0417\n",
      "Epoch 96/100\n",
      "58/58 [==============================] - 1s 19ms/step - loss: 0.0047 - mean_squared_error: 0.0047 - mean_absolute_error: 0.0523 - val_loss: 0.0032 - val_mean_squared_error: 0.0032 - val_mean_absolute_error: 0.0407\n",
      "Epoch 97/100\n",
      "58/58 [==============================] - 1s 17ms/step - loss: 0.0041 - mean_squared_error: 0.0041 - mean_absolute_error: 0.0481 - val_loss: 0.0031 - val_mean_squared_error: 0.0031 - val_mean_absolute_error: 0.0396\n",
      "Epoch 98/100\n",
      "58/58 [==============================] - 1s 18ms/step - loss: 0.0044 - mean_squared_error: 0.0044 - mean_absolute_error: 0.0506 - val_loss: 0.0029 - val_mean_squared_error: 0.0029 - val_mean_absolute_error: 0.0387\n",
      "Epoch 99/100\n",
      "58/58 [==============================] - 1s 16ms/step - loss: 0.0037 - mean_squared_error: 0.0037 - mean_absolute_error: 0.0468 - val_loss: 0.0033 - val_mean_squared_error: 0.0033 - val_mean_absolute_error: 0.0430\n",
      "Epoch 100/100\n",
      "58/58 [==============================] - 1s 16ms/step - loss: 0.0042 - mean_squared_error: 0.0042 - mean_absolute_error: 0.0495 - val_loss: 0.0037 - val_mean_squared_error: 0.0037 - val_mean_absolute_error: 0.0455\n"
     ]
    }
   ],
   "source": [
    "#fit model\n",
    "history_gru = fit_model(model_gru)"
   ]
  },
  {
   "cell_type": "markdown",
   "id": "7a54f9ff-0c4d-4f11-8fd1-7e61a30e76e5",
   "metadata": {},
   "source": [
    "<font size=\"5\">***Machine Learning Step: Evaluate Model***</font>"
   ]
  },
  {
   "cell_type": "code",
   "execution_count": 143,
   "id": "f052481a-dcc3-4c45-8e03-84d320ed3db6",
   "metadata": {},
   "outputs": [
    {
     "name": "stdout",
     "output_type": "stream",
     "text": [
      "0.06051823492403204\n"
     ]
    }
   ],
   "source": [
    "hist_df = pd.DataFrame(history_gru.history) \n",
    "mean_squared_error = hist_df.at[99,'val_mean_squared_error']\n",
    "print(math.sqrt(mean_squared_error))"
   ]
  },
  {
   "cell_type": "markdown",
   "id": "465bc9b2-b537-4906-bf35-4a9399f2555e",
   "metadata": {},
   "source": [
    "<font size=\"3\">***Model Root Mean Square Error: 0.0605***</font>"
   ]
  },
  {
   "cell_type": "code",
   "execution_count": 144,
   "id": "5b90fe9f-f415-43b9-bb87-c474a6874bd2",
   "metadata": {},
   "outputs": [],
   "source": [
    "# Plot train loss and validation loss\n",
    "def plot_loss (history, model_name):\n",
    "    plt.figure(figsize = (10, 6))\n",
    "    plt.plot(history.history['loss'])\n",
    "    plt.plot(history.history['val_loss'])\n",
    "    plt.title('Model Train vs Validation Loss for ' + model_name)\n",
    "    plt.ylabel('Loss')\n",
    "    plt.xlabel('epoch')\n",
    "    plt.legend(['Train loss', 'Validation loss'], loc='upper right')"
   ]
  },
  {
   "cell_type": "code",
   "execution_count": 145,
   "id": "d65dd23c-1f27-4685-9f3e-80b7d22b87db",
   "metadata": {},
   "outputs": [
    {
     "data": {
      "image/png": "[encoded data removed]",
      "text/plain": [
       "<Figure size 720x432 with 1 Axes>"
      ]
     },
     "metadata": {
      "needs_background": "light"
     },
     "output_type": "display_data"
    }
   ],
   "source": [
    "#show plot\n",
    "plot_loss (history_gru, 'GRU')"
   ]
  },
  {
   "cell_type": "markdown",
   "id": "085d8da2-8be1-42ee-9984-772af39c623f",
   "metadata": {},
   "source": [
    "<font size=\"5\">***Machine Learning Step: Make Predictions***</font>"
   ]
  },
  {
   "cell_type": "code",
   "execution_count": 146,
   "id": "0f235b4b-76c1-47fe-9be7-4bde79718a6c",
   "metadata": {},
   "outputs": [],
   "source": [
    "# Transform data back to original data space\n",
    "y_test = scaler.inverse_transform(y_test)\n",
    "y_train = scaler.inverse_transform(y_train)"
   ]
  },
  {
   "cell_type": "code",
   "execution_count": 147,
   "id": "3118e742-46f7-48bb-8eb2-b7b7e0790705",
   "metadata": {},
   "outputs": [],
   "source": [
    "# Make prediction\n",
    "def prediction(model):\n",
    "    prediction = model.predict(X_test)\n",
    "    prediction = scaler.inverse_transform(prediction)\n",
    "    return prediction"
   ]
  },
  {
   "cell_type": "code",
   "execution_count": 148,
   "id": "150bdc39-bc17-44b8-90e8-7f4cca1d7fc9",
   "metadata": {},
   "outputs": [
    {
     "name": "stdout",
     "output_type": "stream",
     "text": [
      "3/3 [==============================] - 1s 8ms/step\n"
     ]
    }
   ],
   "source": [
    "#start predictions\n",
    "prediction_gru = prediction(model_gru)"
   ]
  },
  {
   "cell_type": "code",
   "execution_count": 149,
   "id": "426e4515-023d-4a75-9c47-e31193e30f7d",
   "metadata": {},
   "outputs": [],
   "source": [
    "# Plot test data vs prediction\n",
    "def plot_future(prediction, model_name, y_test):\n",
    "    \n",
    "    plt.figure(figsize=(10, 6))\n",
    "    \n",
    "    range_future = len(prediction)\n",
    "\n",
    "    plt.plot(np.arange(range_future), np.array(y_test), label='Test data')\n",
    "    plt.plot(np.arange(range_future), np.array(prediction),label='Prediction')\n",
    "\n",
    "    plt.title('Test data vs prediction for ' + model_name)\n",
    "    plt.legend(loc='upper left')\n",
    "    plt.xlabel('Time (day)')\n",
    "    plt.ylabel('Price (Close)')"
   ]
  },
  {
   "cell_type": "code",
   "execution_count": 150,
   "id": "8ea8c331-1526-4e11-a164-5a56226fd977",
   "metadata": {},
   "outputs": [
    {
     "data": {
      "image/png": "[encoded data removed]",
      "text/plain": [
       "<Figure size 720x432 with 1 Axes>"
      ]
     },
     "metadata": {
      "needs_background": "light"
     },
     "output_type": "display_data"
    }
   ],
   "source": [
    "plot_future(prediction_gru, 'GRU', y_test)"
   ]
  },
  {
   "cell_type": "code",
   "execution_count": 151,
   "id": "8b26b8f1-67a1-48f1-8e2d-08d3afaf018a",
   "metadata": {},
   "outputs": [],
   "source": [
    "# Calculate MAE and RMSE\n",
    "def evaluate_prediction(predictions, actual, model_name):\n",
    "    errors = predictions - actual\n",
    "    mse = np.square(errors).mean()\n",
    "    rmse = np.sqrt(mse)\n",
    "    mae = np.abs(errors).mean()\n",
    "\n",
    "    print(model_name + ':')\n",
    "    print('Mean Absolute Error: {:.4f}'.format(mae))\n",
    "    print('Root Mean Square Error: {:.4f}'.format(rmse))\n",
    "    print('')"
   ]
  },
  {
   "cell_type": "code",
   "execution_count": 152,
   "id": "7aefbf1f-c314-4fc1-bd13-45c84ad98d37",
   "metadata": {},
   "outputs": [
    {
     "name": "stdout",
     "output_type": "stream",
     "text": [
      "GRU:\n",
      "Mean Absolute Error: 1.1958\n",
      "Root Mean Square Error: 1.4857\n",
      "\n"
     ]
    }
   ],
   "source": [
    "evaluate_prediction(prediction_gru, y_test, 'GRU')"
   ]
  },
  {
   "cell_type": "markdown",
   "id": "0c66a740-340d-4075-b00d-7e3fa165a2de",
   "metadata": {},
   "source": [
    "<font size=\"5\">***Making a 7-Day Forecast***</font>"
   ]
  },
  {
   "cell_type": "code",
   "execution_count": 232,
   "id": "1fab133e-8c62-4ee5-bb6d-ce430223c70d",
   "metadata": {},
   "outputs": [],
   "source": [
    "# Select 60 days of data from test data\n",
    "new_data = test_data[5:43]\n",
    "\n",
    "# Scale the input\n",
    "scaled_data = scaler.transform(new_data)\n",
    "\n",
    "# Reshape the input \n",
    "def create_dataset (X, look_back = 120):\n",
    "    Xs = []\n",
    "    for i in range(len(X)-look_back):\n",
    "        v = X[i:i+look_back]\n",
    "        Xs.append(v)\n",
    "        \n",
    "    return np.array(Xs)"
   ]
  },
  {
   "cell_type": "code",
   "execution_count": 233,
   "id": "15064fe4-3e9c-41b4-a4f7-62e423bcdff8",
   "metadata": {},
   "outputs": [
    {
     "name": "stdout",
     "output_type": "stream",
     "text": [
      "X_30.shape:  (8, 30, 1)\n"
     ]
    }
   ],
   "source": [
    "X_30= create_dataset(scaled_data,30)\n",
    "print('X_30.shape: ', X_30.shape) "
   ]
  },
  {
   "cell_type": "code",
   "execution_count": 234,
   "id": "ba2a28a4-a6bb-4726-8364-614e105e2576",
   "metadata": {},
   "outputs": [],
   "source": [
    "# Make prediction for new data\n",
    "def prediction(model):\n",
    "    prediction = model.predict(X_30)\n",
    "    prediction = scaler.inverse_transform(prediction)\n",
    "    return prediction"
   ]
  },
  {
   "cell_type": "code",
   "execution_count": 235,
   "id": "a0a075f3-58fe-4f2a-9d07-53bf685350af",
   "metadata": {},
   "outputs": [
    {
     "name": "stdout",
     "output_type": "stream",
     "text": [
      "1/1 [==============================] - 0s 21ms/step\n"
     ]
    }
   ],
   "source": [
    "prediction_gru = prediction(model_gru)"
   ]
  },
  {
   "cell_type": "code",
   "execution_count": 236,
   "id": "c66851e7-c980-4721-857a-98824cb4e98c",
   "metadata": {},
   "outputs": [
    {
     "data": {
      "image/png": "[encoded data removed]",
      "text/plain": [
       "<Figure size 720x432 with 1 Axes>"
      ]
     },
     "metadata": {
      "needs_background": "light"
     },
     "output_type": "display_data"
    }
   ],
   "source": [
    "# Plot history and future\n",
    "def plot_multi_step(history, prediction):\n",
    "    plt.figure(figsize=(10, 6))\n",
    "    \n",
    "    global range_history, range_future\n",
    "    range_history = len(history)\n",
    "    range_future = list(range(range_history, range_history + len(prediction)))\n",
    "    \n",
    "    global data , a , b\n",
    "    data=df.filter(['Price'])\n",
    "    a=plt.plot(np.arange(range_history), np.array(history), color = 'green', label='History')\n",
    "    b=plt.plot(range_future, np.array(prediction), color = 'red', label='Forecasted Price')\n",
    "    plt.legend(loc='lower right')\n",
    "    plt.xlabel('Day')\n",
    "    plt.ylabel('Price Forecast')\n",
    "\n",
    "plot_multi_step(new_data, prediction_gru)"
   ]
  },
  {
   "cell_type": "code",
   "execution_count": 240,
   "id": "badeec71-ed27-4cde-9bd3-cb0e7d18f656",
   "metadata": {},
   "outputs": [
    {
     "data": {
      "text/plain": [
       "array([[53.667637],\n",
       "       [54.602592],\n",
       "       [54.788944],\n",
       "       [54.800354],\n",
       "       [54.31272 ],\n",
       "       [55.184486],\n",
       "       [54.794212],\n",
       "       [53.64445 ]], dtype=float32)"
      ]
     },
     "execution_count": 240,
     "metadata": {},
     "output_type": "execute_result"
    }
   ],
   "source": [
    "prediction_gru"
   ]
  },
  {
   "cell_type": "code",
   "execution_count": 246,
   "id": "a399c543-6f72-42df-afc7-9818667ed905",
   "metadata": {},
   "outputs": [],
   "source": [
    "prediction_test_out = pd.DataFrame(prediction_gru, columns=['Close']).to_csv(\"C:\\\\Users\\\\Carther\\\\Desktop\\\\COE_Q_2\\\\lao_outputs.csv\")"
   ]
  },
  {
   "cell_type": "code",
   "execution_count": null,
   "id": "dd8469e7-476a-4052-a06f-45e2b7e377ef",
   "metadata": {},
   "outputs": [],
   "source": [
    "#John Carther V. Lao - 1911910"
   ]
  }
 ],
 "metadata": {
  "kernelspec": {
   "display_name": "Python 3 (ipykernel)",
   "language": "python",
   "name": "python3"
  },
  "language_info": {
   "codemirror_mode": {
    "name": "ipython",
    "version": 3
   },
   "file_extension": ".py",
   "mimetype": "text/x-python",
   "name": "python",
   "nbconvert_exporter": "python",
   "pygments_lexer": "ipython3",
   "version": "3.10.4"
  }
 },
 "nbformat": 4,
 "nbformat_minor": 5
}
